{
 "cells": [
  {
   "cell_type": "markdown",
   "metadata": {},
   "source": [
    "### Starting spark session"
   ]
  },
  {
   "cell_type": "code",
   "execution_count": 112,
   "metadata": {},
   "outputs": [],
   "source": [
    "from pyspark.sql import SparkSession\n",
    "\n",
    "spark = SparkSession \\\n",
    "    .builder \\\n",
    "    .appName(\"BDPP_Project_AbhishekPulicherla\") \\\n",
    "    .config(\"spark.some.config.option\", \"some-value\") \\\n",
    "    .getOrCreate()"
   ]
  },
  {
   "cell_type": "code",
   "execution_count": 113,
   "metadata": {},
   "outputs": [
    {
     "data": {
      "text/plain": [
       "\"#IBM Watson\\nimport ibmos2spark\\n# @hidden_cell\\ncredentials = {\\n    'endpoint': 'https://s3.eu-geo.objectstorage.service.networklayer.com',\\n    'service_id': 'iam-ServiceId-434388b1-5748-4a66-b404-f5dc7ddee862',\\n    'iam_service_endpoint': 'https://iam.cloud.ibm.com/oidc/token',\\n    'api_key': 'vLHUwEerIw6PKeLgGS7NknmatrElAXaetSHSj07N9v_D'\\n}\\n\\nconfiguration_name = 'os_5948e2b860cf482b9ab3c228994f1984_configs'\\ncos = ibmos2spark.CloudObjectStorage(sc, credentials, configuration_name, 'bluemix_cos')\\n\\nfrom pyspark.sql import SparkSession\\nspark = SparkSession.builder.getOrCreate()\\nccdefault = spark.read  .format('org.apache.spark.sql.execution.datasources.csv.CSVFileFormat')  .option('header', 'true')  .load(cos.url('ccdefault.csv', 'bdppproject-donotdelete-pr-8acglkov1ykjrh'))\\nccdefault.take(5)\""
      ]
     },
     "execution_count": 113,
     "metadata": {},
     "output_type": "execute_result"
    }
   ],
   "source": [
    "'''#IBM Watson\n",
    "import ibmos2spark\n",
    "# @hidden_cell\n",
    "credentials = {\n",
    "    'endpoint': 'https://s3.eu-geo.objectstorage.service.networklayer.com',\n",
    "    'service_id': 'iam-ServiceId-434388b1-5748-4a66-b404-f5dc7ddee862',\n",
    "    'iam_service_endpoint': 'https://iam.cloud.ibm.com/oidc/token',\n",
    "    'api_key': 'vLHUwEerIw6PKeLgGS7NknmatrElAXaetSHSj07N9v_D'\n",
    "}\n",
    "\n",
    "configuration_name = 'os_5948e2b860cf482b9ab3c228994f1984_configs'\n",
    "cos = ibmos2spark.CloudObjectStorage(sc, credentials, configuration_name, 'bluemix_cos')\n",
    "\n",
    "from pyspark.sql import SparkSession\n",
    "spark = SparkSession.builder.getOrCreate()\n",
    "ccdefault = spark.read\\\n",
    "  .format('org.apache.spark.sql.execution.datasources.csv.CSVFileFormat')\\\n",
    "  .option('header', 'true')\\\n",
    "  .load(cos.url('ccdefault.csv', 'bdppproject-donotdelete-pr-8acglkov1ykjrh'))\n",
    "ccdefault.take(5)'''\n"
   ]
  },
  {
   "cell_type": "markdown",
   "metadata": {},
   "source": [
    "\n",
    "### Importing libraries"
   ]
  },
  {
   "cell_type": "code",
   "execution_count": 114,
   "metadata": {},
   "outputs": [],
   "source": [
    "import pandas as pd\n",
    "import numpy as np\n",
    "import seaborn as sns\n",
    "import matplotlib.pyplot as plt\n",
    "%matplotlib inline\n",
    "from pyspark.ml.feature import VectorAssembler, StringIndexer, VectorIndexer, MinMaxScaler\n",
    "from pyspark.ml import Pipeline\n",
    "from pyspark.sql.functions import *\n",
    "from pyspark import SparkConf, SparkContext\n",
    "from pyspark.sql import SQLContext, HiveContext\n",
    "from pyspark.sql import functions as F\n",
    "\n",
    "from pyspark.ml.classification import LogisticRegression\n",
    "from pyspark.ml.classification import DecisionTreeClassifier\n",
    "from pyspark.ml.classification import RandomForestClassifier\n",
    "from pyspark.ml.classification import MultilayerPerceptronClassifier\n",
    "from pyspark.ml.classification import LinearSVC\n",
    "from pyspark.ml.regression import LinearRegression\n",
    "\n",
    "\n",
    "from pyspark.ml.evaluation import MulticlassClassificationEvaluator\n",
    "from pyspark.ml.evaluation import RegressionEvaluator\n",
    "from pyspark.ml.evaluation import BinaryClassificationEvaluator\n",
    "from pyspark.ml.tuning import CrossValidator, ParamGridBuilder"
   ]
  },
  {
   "cell_type": "code",
   "execution_count": 115,
   "metadata": {},
   "outputs": [],
   "source": [
    "ccdefault = spark.read.load(\"ccdefault.csv\",format=\"csv\", sep=\",\", inferSchema=\"true\", header=\"true\")"
   ]
  },
  {
   "cell_type": "code",
   "execution_count": 116,
   "metadata": {},
   "outputs": [],
   "source": [
    "#ccdefault = spark.read.load(\"gs://bdpp-project/ccdefault.csv\",format=\"csv\", sep=\",\", inferSchema=\"true\", header=\"true\")"
   ]
  },
  {
   "cell_type": "markdown",
   "metadata": {},
   "source": [
    "### Features of the dataset"
   ]
  },
  {
   "cell_type": "code",
   "execution_count": 117,
   "metadata": {},
   "outputs": [
    {
     "name": "stdout",
     "output_type": "stream",
     "text": [
      "root\n",
      " |-- ID: integer (nullable = true)\n",
      " |-- LIMIT_BAL: integer (nullable = true)\n",
      " |-- SEX: integer (nullable = true)\n",
      " |-- EDUCATION: integer (nullable = true)\n",
      " |-- MARRIAGE: integer (nullable = true)\n",
      " |-- AGE: integer (nullable = true)\n",
      " |-- PAY_0: integer (nullable = true)\n",
      " |-- PAY_2: integer (nullable = true)\n",
      " |-- PAY_3: integer (nullable = true)\n",
      " |-- PAY_4: integer (nullable = true)\n",
      " |-- PAY_5: integer (nullable = true)\n",
      " |-- PAY_6: integer (nullable = true)\n",
      " |-- BILL_AMT1: integer (nullable = true)\n",
      " |-- BILL_AMT2: integer (nullable = true)\n",
      " |-- BILL_AMT3: integer (nullable = true)\n",
      " |-- BILL_AMT4: integer (nullable = true)\n",
      " |-- BILL_AMT5: integer (nullable = true)\n",
      " |-- BILL_AMT6: integer (nullable = true)\n",
      " |-- PAY_AMT1: integer (nullable = true)\n",
      " |-- PAY_AMT2: integer (nullable = true)\n",
      " |-- PAY_AMT3: integer (nullable = true)\n",
      " |-- PAY_AMT4: integer (nullable = true)\n",
      " |-- PAY_AMT5: integer (nullable = true)\n",
      " |-- PAY_AMT6: integer (nullable = true)\n",
      " |-- DEFAULT: integer (nullable = true)\n",
      "\n"
     ]
    }
   ],
   "source": [
    "ccdefault.printSchema()"
   ]
  },
  {
   "cell_type": "markdown",
   "metadata": {},
   "source": [
    "### Checking for missing values"
   ]
  },
  {
   "cell_type": "code",
   "execution_count": 118,
   "metadata": {},
   "outputs": [
    {
     "name": "stdout",
     "output_type": "stream",
     "text": [
      "+---+---------+---+---------+--------+---+-----+-----+-----+-----+-----+-----+---------+---------+---------+---------+---------+---------+--------+--------+--------+--------+--------+--------+-------+\n",
      "| ID|LIMIT_BAL|SEX|EDUCATION|MARRIAGE|AGE|PAY_0|PAY_2|PAY_3|PAY_4|PAY_5|PAY_6|BILL_AMT1|BILL_AMT2|BILL_AMT3|BILL_AMT4|BILL_AMT5|BILL_AMT6|PAY_AMT1|PAY_AMT2|PAY_AMT3|PAY_AMT4|PAY_AMT5|PAY_AMT6|DEFAULT|\n",
      "+---+---------+---+---------+--------+---+-----+-----+-----+-----+-----+-----+---------+---------+---------+---------+---------+---------+--------+--------+--------+--------+--------+--------+-------+\n",
      "|  0|        0|  0|        0|       0|  0|    0|    0|    0|    0|    0|    0|        0|        0|        0|        0|        0|        0|       0|       0|       0|       0|       0|       0|      0|\n",
      "+---+---------+---+---------+--------+---+-----+-----+-----+-----+-----+-----+---------+---------+---------+---------+---------+---------+--------+--------+--------+--------+--------+--------+-------+\n",
      "\n"
     ]
    }
   ],
   "source": [
    "#checking for missing values\n",
    "from pyspark.sql.functions import when, count, col\n",
    "ccdefault.select([count(when(isnan(c) | col(c).isNull(), c)).alias(c) for c in ccdefault.columns]).show()"
   ]
  },
  {
   "cell_type": "code",
   "execution_count": 119,
   "metadata": {},
   "outputs": [
    {
     "data": {
      "text/plain": [
       "\"# Checking for missing values \\ndf=ccdefault.toPandas()\\ntotal = df.isnull().sum().sort_values(ascending = False)\\npercent = (df.isnull().sum()/df.isnull().count()*100).sort_values(ascending = False)\\npd.concat([total, percent], axis=1, keys=['Total', 'Percent']).transpose()\""
      ]
     },
     "execution_count": 119,
     "metadata": {},
     "output_type": "execute_result"
    }
   ],
   "source": [
    "'''# Checking for missing values \n",
    "df=ccdefault.toPandas()\n",
    "total = df.isnull().sum().sort_values(ascending = False)\n",
    "percent = (df.isnull().sum()/df.isnull().count()*100).sort_values(ascending = False)\n",
    "pd.concat([total, percent], axis=1, keys=['Total', 'Percent']).transpose()'''"
   ]
  },
  {
   "cell_type": "code",
   "execution_count": 120,
   "metadata": {},
   "outputs": [
    {
     "name": "stdout",
     "output_type": "stream",
     "text": [
      "+---+-------+\n",
      "| ID|DEFAULT|\n",
      "+---+-------+\n",
      "|  1|      1|\n",
      "|  2|      1|\n",
      "|  3|      0|\n",
      "|  4|      0|\n",
      "|  5|      0|\n",
      "+---+-------+\n",
      "only showing top 5 rows\n",
      "\n",
      "None\n"
     ]
    }
   ],
   "source": [
    "# Printing the Default column\n",
    "print(ccdefault.select(\"ID\",\"DEFAULT\").show(5))"
   ]
  },
  {
   "cell_type": "markdown",
   "metadata": {},
   "source": [
    "### Checking for class imbalance"
   ]
  },
  {
   "cell_type": "code",
   "execution_count": 121,
   "metadata": {},
   "outputs": [
    {
     "name": "stdout",
     "output_type": "stream",
     "text": [
      "Default == 1: 6636\n",
      "Default == 0: 23364\n"
     ]
    }
   ],
   "source": [
    "print(\"Default == 1:\", ccdefault.filter(ccdefault.DEFAULT == 1).count())\n",
    "print(\"Default == 0:\", ccdefault.filter(ccdefault.DEFAULT == 0).count())"
   ]
  },
  {
   "cell_type": "code",
   "execution_count": 122,
   "metadata": {},
   "outputs": [],
   "source": [
    "df=ccdefault.toPandas()"
   ]
  },
  {
   "cell_type": "code",
   "execution_count": 123,
   "metadata": {},
   "outputs": [
    {
     "data": {
      "image/png": "[encoded data removed]",
      "text/plain": [
       "<Figure size 432x432 with 1 Axes>"
      ]
     },
     "metadata": {
      "needs_background": "light"
     },
     "output_type": "display_data"
    }
   ],
   "source": [
    "import seaborn as sns\n",
    "import matplotlib.pylab as plt\n",
    "\n",
    "temp = df[\"DEFAULT\"].value_counts()\n",
    "df1 = pd.DataFrame({'DEFAULT': temp.index,'values': temp.values})\n",
    "plt.figure(figsize = (6,6))\n",
    "plt.title('Default Credit Card Clients - target value - data unbalance\\n (Default = 0, Not Default = 1)')\n",
    "sns.set_color_codes(\"pastel\")\n",
    "sns.barplot(x = 'DEFAULT', y=\"values\", data=df1)\n",
    "locs, labels = plt.xticks()\n",
    "plt.show()"
   ]
  },
  {
   "cell_type": "markdown",
   "metadata": {},
   "source": [
    "### Drop ID column"
   ]
  },
  {
   "cell_type": "code",
   "execution_count": 124,
   "metadata": {},
   "outputs": [],
   "source": [
    "#drop ID column\n",
    "data = ccdefault.select(ccdefault.schema.names[1:])"
   ]
  },
  {
   "cell_type": "code",
   "execution_count": 125,
   "metadata": {},
   "outputs": [
    {
     "data": {
      "text/plain": [
       "[Row(LIMIT_BAL=20000, SEX=2, EDUCATION=2, MARRIAGE=1, AGE=24, PAY_0=2, PAY_2=2, PAY_3=-1, PAY_4=-1, PAY_5=-2, PAY_6=-2, BILL_AMT1=3913, BILL_AMT2=3102, BILL_AMT3=689, BILL_AMT4=0, BILL_AMT5=0, BILL_AMT6=0, PAY_AMT1=0, PAY_AMT2=689, PAY_AMT3=0, PAY_AMT4=0, PAY_AMT5=0, PAY_AMT6=0, DEFAULT=1),\n",
       " Row(LIMIT_BAL=120000, SEX=2, EDUCATION=2, MARRIAGE=2, AGE=26, PAY_0=-1, PAY_2=2, PAY_3=0, PAY_4=0, PAY_5=0, PAY_6=2, BILL_AMT1=2682, BILL_AMT2=1725, BILL_AMT3=2682, BILL_AMT4=3272, BILL_AMT5=3455, BILL_AMT6=3261, PAY_AMT1=0, PAY_AMT2=1000, PAY_AMT3=1000, PAY_AMT4=1000, PAY_AMT5=0, PAY_AMT6=2000, DEFAULT=1),\n",
       " Row(LIMIT_BAL=90000, SEX=2, EDUCATION=2, MARRIAGE=2, AGE=34, PAY_0=0, PAY_2=0, PAY_3=0, PAY_4=0, PAY_5=0, PAY_6=0, BILL_AMT1=29239, BILL_AMT2=14027, BILL_AMT3=13559, BILL_AMT4=14331, BILL_AMT5=14948, BILL_AMT6=15549, PAY_AMT1=1518, PAY_AMT2=1500, PAY_AMT3=1000, PAY_AMT4=1000, PAY_AMT5=1000, PAY_AMT6=5000, DEFAULT=0),\n",
       " Row(LIMIT_BAL=50000, SEX=2, EDUCATION=2, MARRIAGE=1, AGE=37, PAY_0=0, PAY_2=0, PAY_3=0, PAY_4=0, PAY_5=0, PAY_6=0, BILL_AMT1=46990, BILL_AMT2=48233, BILL_AMT3=49291, BILL_AMT4=28314, BILL_AMT5=28959, BILL_AMT6=29547, PAY_AMT1=2000, PAY_AMT2=2019, PAY_AMT3=1200, PAY_AMT4=1100, PAY_AMT5=1069, PAY_AMT6=1000, DEFAULT=0),\n",
       " Row(LIMIT_BAL=50000, SEX=1, EDUCATION=2, MARRIAGE=1, AGE=57, PAY_0=-1, PAY_2=0, PAY_3=-1, PAY_4=0, PAY_5=0, PAY_6=0, BILL_AMT1=8617, BILL_AMT2=5670, BILL_AMT3=35835, BILL_AMT4=20940, BILL_AMT5=19146, BILL_AMT6=19131, PAY_AMT1=2000, PAY_AMT2=36681, PAY_AMT3=10000, PAY_AMT4=9000, PAY_AMT5=689, PAY_AMT6=679, DEFAULT=0)]"
      ]
     },
     "execution_count": 125,
     "metadata": {},
     "output_type": "execute_result"
    }
   ],
   "source": [
    "data.take(5)"
   ]
  },
  {
   "cell_type": "code",
   "execution_count": 126,
   "metadata": {},
   "outputs": [
    {
     "data": {
      "text/plain": [
       "\"#IBM Watson\\n\\ndata = data.withColumn('LIMIT_BAL', data.LIMIT_BAL.cast('int'))\\ndata = data.withColumn('SEX', data.SEX.cast('int'))\\ndata = data.withColumn('EDUCATION', data.EDUCATION.cast('int'))\\ndata = data.withColumn('MARRIAGE', data.MARRIAGE.cast('int'))\\ndata = data.withColumn('AGE', data.AGE.cast('int'))\\ndata = data.withColumn('PAY_0', data.PAY_0.cast('int'))\\ndata = data.withColumn('PAY_2', data.PAY_2.cast('int'))\\ndata = data.withColumn('PAY_3', data.PAY_3.cast('int'))\\ndata = data.withColumn('PAY_4', data.PAY_4.cast('int'))\\ndata = data.withColumn('PAY_5', data.PAY_5.cast('int'))\\ndata = data.withColumn('PAY_6', data.PAY_6.cast('int'))\\ndata = data.withColumn('BILL_AMT1', data.BILL_AMT1.cast('int'))\\n\\ndata = data.withColumn('BILL_AMT2', data.BILL_AMT2.cast('int'))\\ndata = data.withColumn('BILL_AMT3', data.BILL_AMT3.cast('int'))\\ndata = data.withColumn('BILL_AMT4', data.BILL_AMT4.cast('int'))\\ndata = data.withColumn('BILL_AMT5', data.BILL_AMT5.cast('int'))\\ndata = data.withColumn('BILL_AMT6', data.BILL_AMT6.cast('int'))\\ndata = data.withColumn('PAY_AMT1', data.PAY_AMT1.cast('int'))\\ndata = data.withColumn('PAY_AMT2', data.PAY_AMT2.cast('int'))\\n\\ndata = data.withColumn('PAY_AMT3', data.PAY_AMT3.cast('int'))\\ndata = data.withColumn('PAY_AMT4', data.PAY_AMT4.cast('int'))\\ndata = data.withColumn('PAY_AMT5', data.PAY_AMT5.cast('int'))\\ndata = data.withColumn('PAY_AMT6', data.PAY_AMT6.cast('int'))\""
      ]
     },
     "execution_count": 126,
     "metadata": {},
     "output_type": "execute_result"
    }
   ],
   "source": [
    "'''#IBM Watson\n",
    "\n",
    "data = data.withColumn('LIMIT_BAL', data.LIMIT_BAL.cast('int'))\n",
    "data = data.withColumn('SEX', data.SEX.cast('int'))\n",
    "data = data.withColumn('EDUCATION', data.EDUCATION.cast('int'))\n",
    "data = data.withColumn('MARRIAGE', data.MARRIAGE.cast('int'))\n",
    "data = data.withColumn('AGE', data.AGE.cast('int'))\n",
    "data = data.withColumn('PAY_0', data.PAY_0.cast('int'))\n",
    "data = data.withColumn('PAY_2', data.PAY_2.cast('int'))\n",
    "data = data.withColumn('PAY_3', data.PAY_3.cast('int'))\n",
    "data = data.withColumn('PAY_4', data.PAY_4.cast('int'))\n",
    "data = data.withColumn('PAY_5', data.PAY_5.cast('int'))\n",
    "data = data.withColumn('PAY_6', data.PAY_6.cast('int'))\n",
    "data = data.withColumn('BILL_AMT1', data.BILL_AMT1.cast('int'))\n",
    "\n",
    "data = data.withColumn('BILL_AMT2', data.BILL_AMT2.cast('int'))\n",
    "data = data.withColumn('BILL_AMT3', data.BILL_AMT3.cast('int'))\n",
    "data = data.withColumn('BILL_AMT4', data.BILL_AMT4.cast('int'))\n",
    "data = data.withColumn('BILL_AMT5', data.BILL_AMT5.cast('int'))\n",
    "data = data.withColumn('BILL_AMT6', data.BILL_AMT6.cast('int'))\n",
    "data = data.withColumn('PAY_AMT1', data.PAY_AMT1.cast('int'))\n",
    "data = data.withColumn('PAY_AMT2', data.PAY_AMT2.cast('int'))\n",
    "\n",
    "data = data.withColumn('PAY_AMT3', data.PAY_AMT3.cast('int'))\n",
    "data = data.withColumn('PAY_AMT4', data.PAY_AMT4.cast('int'))\n",
    "data = data.withColumn('PAY_AMT5', data.PAY_AMT5.cast('int'))\n",
    "data = data.withColumn('PAY_AMT6', data.PAY_AMT6.cast('int'))'''\n"
   ]
  },
  {
   "cell_type": "markdown",
   "metadata": {},
   "source": [
    "### Data Description"
   ]
  },
  {
   "cell_type": "code",
   "execution_count": 127,
   "metadata": {},
   "outputs": [
    {
     "name": "stdout",
     "output_type": "stream",
     "text": [
      "+-------+------------------+-----------------+\n",
      "|summary|         LIMIT_BAL|              AGE|\n",
      "+-------+------------------+-----------------+\n",
      "|  count|             30000|            30000|\n",
      "|   mean|167484.32266666667|          35.4855|\n",
      "| stddev|129747.66156720246|9.217904068090155|\n",
      "|    min|             10000|               21|\n",
      "|    max|           1000000|               79|\n",
      "+-------+------------------+-----------------+\n",
      "\n"
     ]
    }
   ],
   "source": [
    "data.describe(['LIMIT_BAL','AGE']).show()"
   ]
  },
  {
   "cell_type": "markdown",
   "metadata": {},
   "source": [
    "### Data Cleaning"
   ]
  },
  {
   "cell_type": "code",
   "execution_count": 128,
   "metadata": {},
   "outputs": [
    {
     "data": {
      "text/plain": [
       "2    14030\n",
       "1    10585\n",
       "3     4917\n",
       "4      468\n",
       "Name: EDUCATION, dtype: int64"
      ]
     },
     "execution_count": 128,
     "metadata": {},
     "output_type": "execute_result"
    }
   ],
   "source": [
    "#removing the unecessary labels in education column\n",
    "fil = (df.EDUCATION == 5) | (df.EDUCATION == 6) | (df.EDUCATION == 0)\n",
    "df.loc[fil, 'EDUCATION'] = 4\n",
    "df.EDUCATION.value_counts()"
   ]
  },
  {
   "cell_type": "code",
   "execution_count": 129,
   "metadata": {},
   "outputs": [
    {
     "data": {
      "text/plain": [
       "2    15964\n",
       "1    13659\n",
       "3      377\n",
       "Name: MARRIAGE, dtype: int64"
      ]
     },
     "execution_count": 129,
     "metadata": {},
     "output_type": "execute_result"
    }
   ],
   "source": [
    "#removing the unecessary labels in marriage column\n",
    "df.loc[df.MARRIAGE == 0, 'MARRIAGE'] = 3\n",
    "df.MARRIAGE.value_counts()"
   ]
  },
  {
   "cell_type": "code",
   "execution_count": 130,
   "metadata": {},
   "outputs": [],
   "source": [
    "data = spark.createDataFrame(df)"
   ]
  },
  {
   "cell_type": "code",
   "execution_count": 131,
   "metadata": {},
   "outputs": [
    {
     "name": "stdout",
     "output_type": "stream",
     "text": [
      "+---+---------+---+---------+--------+---+-----+-----+-----+-----+-----+-----+---------+---------+---------+---------+---------+---------+--------+--------+--------+--------+--------+--------+-------+\n",
      "| ID|LIMIT_BAL|SEX|EDUCATION|MARRIAGE|AGE|PAY_1|PAY_2|PAY_3|PAY_4|PAY_5|PAY_6|BILL_AMT1|BILL_AMT2|BILL_AMT3|BILL_AMT4|BILL_AMT5|BILL_AMT6|PAY_AMT1|PAY_AMT2|PAY_AMT3|PAY_AMT4|PAY_AMT5|PAY_AMT6|DEFAULT|\n",
      "+---+---------+---+---------+--------+---+-----+-----+-----+-----+-----+-----+---------+---------+---------+---------+---------+---------+--------+--------+--------+--------+--------+--------+-------+\n",
      "|  1|    20000|  2|        2|       1| 24|    2|    2|   -1|   -1|   -2|   -2|     3913|     3102|      689|        0|        0|        0|       0|     689|       0|       0|       0|       0|      1|\n",
      "|  2|   120000|  2|        2|       2| 26|   -1|    2|    0|    0|    0|    2|     2682|     1725|     2682|     3272|     3455|     3261|       0|    1000|    1000|    1000|       0|    2000|      1|\n",
      "|  3|    90000|  2|        2|       2| 34|    0|    0|    0|    0|    0|    0|    29239|    14027|    13559|    14331|    14948|    15549|    1518|    1500|    1000|    1000|    1000|    5000|      0|\n",
      "|  4|    50000|  2|        2|       1| 37|    0|    0|    0|    0|    0|    0|    46990|    48233|    49291|    28314|    28959|    29547|    2000|    2019|    1200|    1100|    1069|    1000|      0|\n",
      "|  5|    50000|  1|        2|       1| 57|   -1|    0|   -1|    0|    0|    0|     8617|     5670|    35835|    20940|    19146|    19131|    2000|   36681|   10000|    9000|     689|     679|      0|\n",
      "+---+---------+---+---------+--------+---+-----+-----+-----+-----+-----+-----+---------+---------+---------+---------+---------+---------+--------+--------+--------+--------+--------+--------+-------+\n",
      "only showing top 5 rows\n",
      "\n"
     ]
    }
   ],
   "source": [
    "# correcting the pay column wrongly named\n",
    "data = data.withColumnRenamed(\"PAY_0\", \"PAY_1\")\n",
    "data.show(5)"
   ]
  },
  {
   "cell_type": "markdown",
   "metadata": {},
   "source": [
    "### Exploring the data"
   ]
  },
  {
   "cell_type": "code",
   "execution_count": 132,
   "metadata": {},
   "outputs": [
    {
     "data": {
      "image/png": "[encoded data removed]",
      "text/plain": [
       "<Figure size 432x288 with 1 Axes>"
      ]
     },
     "metadata": {
      "needs_background": "light"
     },
     "output_type": "display_data"
    }
   ],
   "source": [
    "# Comparing default rate with both the sexes \n",
    "ds = sns.countplot(x=\"DEFAULT\",hue=\"SEX\", data=df)\n",
    "plt.show()"
   ]
  },
  {
   "cell_type": "markdown",
   "metadata": {},
   "source": [
    "Merging categories in EDUCATION column"
   ]
  },
  {
   "cell_type": "code",
   "execution_count": 133,
   "metadata": {},
   "outputs": [],
   "source": [
    "df.loc[(df.EDUCATION == 5)|(df.EDUCATION == 0)|\n",
    "                 (df.EDUCATION == 6),'EDUCATION']=4"
   ]
  },
  {
   "cell_type": "code",
   "execution_count": 134,
   "metadata": {},
   "outputs": [
    {
     "data": {
      "image/png": "[encoded data removed]",
      "text/plain": [
       "<Figure size 432x288 with 1 Axes>"
      ]
     },
     "metadata": {
      "needs_background": "light"
     },
     "output_type": "display_data"
    }
   ],
   "source": [
    "de = sns.countplot(x=\"DEFAULT\",hue=\"EDUCATION\",data=df)\n",
    "plt.show()"
   ]
  },
  {
   "cell_type": "code",
   "execution_count": 135,
   "metadata": {},
   "outputs": [
    {
     "data": {
      "image/png": "[encoded data removed]",
      "text/plain": [
       "<Figure size 432x288 with 1 Axes>"
      ]
     },
     "metadata": {
      "needs_background": "light"
     },
     "output_type": "display_data"
    }
   ],
   "source": [
    "de = sns.countplot(x=\"DEFAULT\",hue=\"EDUCATION\",data=df)\n",
    "plt.show()"
   ]
  },
  {
   "cell_type": "markdown",
   "metadata": {},
   "source": [
    "### Feature Correlation for some features"
   ]
  },
  {
   "cell_type": "code",
   "execution_count": 136,
   "metadata": {},
   "outputs": [
    {
     "name": "stdout",
     "output_type": "stream",
     "text": [
      "+----------+\n",
      "|features_1|\n",
      "+----------+\n",
      "| [2.0,1.0]|\n",
      "| [2.0,1.0]|\n",
      "| [2.0,0.0]|\n",
      "| [2.0,0.0]|\n",
      "| [1.0,0.0]|\n",
      "+----------+\n",
      "only showing top 5 rows\n",
      "\n"
     ]
    }
   ],
   "source": [
    "#Comparing Sex and Default columns\n",
    "from pyspark.ml.linalg import Vectors\n",
    "from pyspark.ml.feature import VectorAssembler\n",
    "\n",
    "assembler = VectorAssembler(\n",
    "    inputCols=[\"SEX\",\"DEFAULT\"],\n",
    "    outputCol=\"features_1\")\n",
    "\n",
    "Attrs_1 = assembler.transform(data)\n",
    "Attrs_1.select(\"features_1\").show(5)"
   ]
  },
  {
   "cell_type": "code",
   "execution_count": 137,
   "metadata": {},
   "outputs": [
    {
     "name": "stdout",
     "output_type": "stream",
     "text": [
      "correlation matrix:\n",
      "DenseMatrix([[ 1.        , -0.03996058],\n",
      "             [-0.03996058,  1.        ]])\n"
     ]
    }
   ],
   "source": [
    "# Correlation for Sex and Default\n",
    "from pyspark.ml.linalg import Vectors\n",
    "from pyspark.ml.stat import Correlation\n",
    "\n",
    "cor_mat = Correlation.corr(Attrs_1, \"features_1\").head()\n",
    "\n",
    "print(\"correlation matrix:\\n\" + str(cor_mat[0]))"
   ]
  },
  {
   "cell_type": "code",
   "execution_count": 138,
   "metadata": {},
   "outputs": [
    {
     "name": "stdout",
     "output_type": "stream",
     "text": [
      "+----------+\n",
      "|features_2|\n",
      "+----------+\n",
      "| [1.0,1.0]|\n",
      "| [2.0,1.0]|\n",
      "| [2.0,0.0]|\n",
      "| [1.0,0.0]|\n",
      "| [1.0,0.0]|\n",
      "+----------+\n",
      "only showing top 5 rows\n",
      "\n"
     ]
    }
   ],
   "source": [
    "#Comparing Marriage and Default columns\n",
    "from pyspark.ml.linalg import Vectors\n",
    "from pyspark.ml.feature import VectorAssembler\n",
    "\n",
    "assembler = VectorAssembler(\n",
    "    inputCols=[\"MARRIAGE\",\"DEFAULT\"],\n",
    "    outputCol=\"features_2\")\n",
    "\n",
    "Attrs_2 = assembler.transform(data)\n",
    "Attrs_2.select(\"features_2\").show(5)"
   ]
  },
  {
   "cell_type": "code",
   "execution_count": 139,
   "metadata": {},
   "outputs": [
    {
     "name": "stdout",
     "output_type": "stream",
     "text": [
      "correlation matrix:\n",
      "DenseMatrix([[ 1.        , -0.02757471],\n",
      "             [-0.02757471,  1.        ]])\n"
     ]
    }
   ],
   "source": [
    "# Correlation for Marriage and Default\n",
    "from pyspark.ml.linalg import Vectors\n",
    "from pyspark.ml.stat import Correlation\n",
    "\n",
    "cor_mat_2 = Correlation.corr(Attrs_2, \"features_2\").head()\n",
    "\n",
    "print(\"correlation matrix:\\n\" + str(cor_mat_2[0]))"
   ]
  },
  {
   "cell_type": "code",
   "execution_count": 140,
   "metadata": {},
   "outputs": [
    {
     "name": "stdout",
     "output_type": "stream",
     "text": [
      "+----------+\n",
      "|features_3|\n",
      "+----------+\n",
      "|[24.0,1.0]|\n",
      "|[26.0,1.0]|\n",
      "|[34.0,0.0]|\n",
      "|[37.0,0.0]|\n",
      "|[57.0,0.0]|\n",
      "+----------+\n",
      "only showing top 5 rows\n",
      "\n"
     ]
    }
   ],
   "source": [
    "#Comparing Age and Default columns\n",
    "from pyspark.ml.linalg import Vectors\n",
    "from pyspark.ml.feature import VectorAssembler\n",
    "\n",
    "assembler = VectorAssembler(\n",
    "    inputCols=[\"AGE\",\"DEFAULT\"],\n",
    "    outputCol=\"features_3\")\n",
    "\n",
    "Attrs_3 = assembler.transform(data)\n",
    "Attrs_3.select(\"features_3\").show(5)"
   ]
  },
  {
   "cell_type": "code",
   "execution_count": 141,
   "metadata": {},
   "outputs": [
    {
     "name": "stdout",
     "output_type": "stream",
     "text": [
      "correlation matrix:\n",
      "DenseMatrix([[1.        , 0.01388983],\n",
      "             [0.01388983, 1.        ]])\n"
     ]
    }
   ],
   "source": [
    "# Correlation for Age and Default\n",
    "from pyspark.ml.linalg import Vectors\n",
    "from pyspark.ml.stat import Correlation\n",
    "\n",
    "cor_mat_3 = Correlation.corr(Attrs_3, \"features_3\").head()\n",
    "\n",
    "print(\"correlation matrix:\\n\" + str(cor_mat_3[0]))"
   ]
  },
  {
   "cell_type": "code",
   "execution_count": 142,
   "metadata": {},
   "outputs": [
    {
     "data": {
      "text/plain": [
       "' Split data into training and test sample\\nsplits = data.randomSplit([0.75, 0.25])\\ndata_train_int = splits[0]\\ndata_test = splits[1]'"
      ]
     },
     "execution_count": 142,
     "metadata": {},
     "output_type": "execute_result"
    }
   ],
   "source": [
    "''' Split data into training and test sample\n",
    "splits = data.randomSplit([0.75, 0.25])\n",
    "data_train_int = splits[0]\n",
    "data_test = splits[1]'''"
   ]
  },
  {
   "cell_type": "code",
   "execution_count": null,
   "metadata": {},
   "outputs": [],
   "source": []
  },
  {
   "cell_type": "code",
   "execution_count": 143,
   "metadata": {},
   "outputs": [
    {
     "data": {
      "text/plain": [
       "[Row(ID=1, LIMIT_BAL=20000, SEX=2, EDUCATION=2, MARRIAGE=1, AGE=24, PAY_1=2, PAY_2=2, PAY_3=-1, PAY_4=-1, PAY_5=-2, PAY_6=-2, BILL_AMT1=3913, BILL_AMT2=3102, BILL_AMT3=689, BILL_AMT4=0, BILL_AMT5=0, BILL_AMT6=0, PAY_AMT1=0, PAY_AMT2=689, PAY_AMT3=0, PAY_AMT4=0, PAY_AMT5=0, PAY_AMT6=0, DEFAULT=1),\n",
       " Row(ID=2, LIMIT_BAL=120000, SEX=2, EDUCATION=2, MARRIAGE=2, AGE=26, PAY_1=-1, PAY_2=2, PAY_3=0, PAY_4=0, PAY_5=0, PAY_6=2, BILL_AMT1=2682, BILL_AMT2=1725, BILL_AMT3=2682, BILL_AMT4=3272, BILL_AMT5=3455, BILL_AMT6=3261, PAY_AMT1=0, PAY_AMT2=1000, PAY_AMT3=1000, PAY_AMT4=1000, PAY_AMT5=0, PAY_AMT6=2000, DEFAULT=1),\n",
       " Row(ID=3, LIMIT_BAL=90000, SEX=2, EDUCATION=2, MARRIAGE=2, AGE=34, PAY_1=0, PAY_2=0, PAY_3=0, PAY_4=0, PAY_5=0, PAY_6=0, BILL_AMT1=29239, BILL_AMT2=14027, BILL_AMT3=13559, BILL_AMT4=14331, BILL_AMT5=14948, BILL_AMT6=15549, PAY_AMT1=1518, PAY_AMT2=1500, PAY_AMT3=1000, PAY_AMT4=1000, PAY_AMT5=1000, PAY_AMT6=5000, DEFAULT=0),\n",
       " Row(ID=4, LIMIT_BAL=50000, SEX=2, EDUCATION=2, MARRIAGE=1, AGE=37, PAY_1=0, PAY_2=0, PAY_3=0, PAY_4=0, PAY_5=0, PAY_6=0, BILL_AMT1=46990, BILL_AMT2=48233, BILL_AMT3=49291, BILL_AMT4=28314, BILL_AMT5=28959, BILL_AMT6=29547, PAY_AMT1=2000, PAY_AMT2=2019, PAY_AMT3=1200, PAY_AMT4=1100, PAY_AMT5=1069, PAY_AMT6=1000, DEFAULT=0),\n",
       " Row(ID=5, LIMIT_BAL=50000, SEX=1, EDUCATION=2, MARRIAGE=1, AGE=57, PAY_1=-1, PAY_2=0, PAY_3=-1, PAY_4=0, PAY_5=0, PAY_6=0, BILL_AMT1=8617, BILL_AMT2=5670, BILL_AMT3=35835, BILL_AMT4=20940, BILL_AMT5=19146, BILL_AMT6=19131, PAY_AMT1=2000, PAY_AMT2=36681, PAY_AMT3=10000, PAY_AMT4=9000, PAY_AMT5=689, PAY_AMT6=679, DEFAULT=0)]"
      ]
     },
     "execution_count": 143,
     "metadata": {},
     "output_type": "execute_result"
    }
   ],
   "source": [
    "data.take(5)"
   ]
  },
  {
   "cell_type": "markdown",
   "metadata": {},
   "source": [
    "### Blind Machine Learning"
   ]
  },
  {
   "cell_type": "code",
   "execution_count": 144,
   "metadata": {},
   "outputs": [],
   "source": [
    "# Vector Assembler\n",
    "from pyspark.ml import Pipeline\n",
    "from pyspark.ml.feature import VectorAssembler\n",
    "\n",
    "va2 = VectorAssembler(inputCols = ['LIMIT_BAL', 'SEX', 'EDUCATION', 'MARRIAGE', 'AGE',\n",
    " 'PAY_1', 'PAY_2', 'PAY_3', 'PAY_4', 'PAY_5', 'PAY_6', 'BILL_AMT1', 'BILL_AMT2',\n",
    " 'BILL_AMT3', 'BILL_AMT4', 'BILL_AMT5', 'BILL_AMT6', 'PAY_AMT1', 'PAY_AMT2', 'PAY_AMT3',\n",
    " 'PAY_AMT4', 'PAY_AMT5', 'PAY_AMT6'], outputCol ='final_features' )\n",
    "\n",
    "temp1 = va2.transform(data)\n",
    "dataset = temp1.withColumn('features', temp1.final_features)\n",
    "dataset = dataset.withColumnRenamed( 'DEFAULT', 'label')"
   ]
  },
  {
   "cell_type": "code",
   "execution_count": 145,
   "metadata": {},
   "outputs": [
    {
     "name": "stdout",
     "output_type": "stream",
     "text": [
      "+--------------------+-----+\n",
      "|            features|label|\n",
      "+--------------------+-----+\n",
      "|[20000.0,2.0,2.0,...|    1|\n",
      "|[120000.0,2.0,2.0...|    1|\n",
      "|[90000.0,2.0,2.0,...|    0|\n",
      "|[50000.0,2.0,2.0,...|    0|\n",
      "|[50000.0,1.0,2.0,...|    0|\n",
      "+--------------------+-----+\n",
      "only showing top 5 rows\n",
      "\n"
     ]
    }
   ],
   "source": [
    "dataset = dataset.select(\"features\", 'label')\n",
    "dataset.show(5)"
   ]
  },
  {
   "cell_type": "code",
   "execution_count": 146,
   "metadata": {},
   "outputs": [],
   "source": [
    "#Data Split\n",
    "trainSet, testSet = dataset.randomSplit([.8,.2],1)"
   ]
  },
  {
   "cell_type": "code",
   "execution_count": 147,
   "metadata": {},
   "outputs": [],
   "source": [
    "from timeit import default_timer as timer"
   ]
  },
  {
   "cell_type": "code",
   "execution_count": 162,
   "metadata": {},
   "outputs": [
    {
     "name": "stdout",
     "output_type": "stream",
     "text": [
      "Coefficients: [-5.808408746981282e-07,-0.06213347394136609,-0.08364019039476711,-0.04337384130260418,0.012738919963658545,0.5689608994758744,0.11994038089814613,0.06716883845297263,0.015998578418654694,0.02386180811775111,0.020286837487802988,-1.2082932970865753e-06,-6.164988633136727e-07,-2.1244732785279912e-07,8.245601476319846e-08,4.179753767808766e-07,5.58083714906645e-07,-8.163593166405838e-06,-6.914964954890008e-06,-4.872073876989191e-06,-4.44968767146017e-06,-5.430440397134542e-06,-2.952970791031161e-06]\n",
      "Intercept: -1.2083635577266096\n",
      "Time=4.176971599999888\n"
     ]
    }
   ],
   "source": [
    "# Logistic Regression \n",
    "from pyspark.ml.classification import LogisticRegression\n",
    "\n",
    "lr = LogisticRegression(featuresCol = 'features', labelCol = 'label', maxIter=10)\n",
    "start = timer()\n",
    "lrModel = lr.fit(trainSet)\n",
    "end = timer()\n",
    "#%timeit lr.fit(trainSet)\n",
    "trainingSummary = lrModel.summary\n",
    "predictions= lrModel.transform(testSet)\n",
    "\n",
    "print(\"Coefficients: %s\" % str(lrModel.coefficients))\n",
    "print(\"Intercept: %s\" % str(lrModel.intercept))\n",
    "print(\"Time=\"+str(end-start))"
   ]
  },
  {
   "cell_type": "code",
   "execution_count": 149,
   "metadata": {},
   "outputs": [
    {
     "name": "stdout",
     "output_type": "stream",
     "text": [
      "+-----+----------+--------------------+\n",
      "|label|prediction|         probability|\n",
      "+-----+----------+--------------------+\n",
      "|    0|       0.0|[0.73771054929694...|\n",
      "|    1|       0.0|[0.73179407788977...|\n",
      "|    0|       0.0|[0.75207139671125...|\n",
      "|    0|       0.0|[0.92967713320346...|\n",
      "|    1|       0.0|[0.77919757806050...|\n",
      "+-----+----------+--------------------+\n",
      "only showing top 5 rows\n",
      "\n"
     ]
    }
   ],
   "source": [
    "predictions.select( 'label', 'prediction', 'probability').show(5)"
   ]
  },
  {
   "cell_type": "code",
   "execution_count": 150,
   "metadata": {},
   "outputs": [
    {
     "data": {
      "text/plain": [
       "\"trainingSummary = lrModel.summary\\n\\nroc = trainingSummary.roc.toPandas()\\nplt.plot(roc['FPR'],roc['TPR'])\\nplt.ylabel('False Positive Rate')\\nplt.xlabel('True Positive Rate')\\nplt.title('ROC Curve')\\nplt.show()\\n\\nprint('Training set areaUnder ROC: ' + str(trainingSummary.areaUnderROC))\""
      ]
     },
     "execution_count": 150,
     "metadata": {},
     "output_type": "execute_result"
    }
   ],
   "source": [
    "'''trainingSummary = lrModel.summary\n",
    "\n",
    "roc = trainingSummary.roc.toPandas()\n",
    "plt.plot(roc['FPR'],roc['TPR'])\n",
    "plt.ylabel('False Positive Rate')\n",
    "plt.xlabel('True Positive Rate')\n",
    "plt.title('ROC Curve')\n",
    "plt.show()\n",
    "\n",
    "print('Training set areaUnder ROC: ' + str(trainingSummary.areaUnderROC))'''"
   ]
  },
  {
   "cell_type": "code",
   "execution_count": 151,
   "metadata": {},
   "outputs": [
    {
     "name": "stdout",
     "output_type": "stream",
     "text": [
      "Test Area Under ROC: 0.7174356786132999\n"
     ]
    }
   ],
   "source": [
    "# Test Area Under ROC for LR\n",
    "evaluator = BinaryClassificationEvaluator()\n",
    "print(\"Test Area Under ROC: \" + str(evaluator.evaluate(predictions, {evaluator.metricName: \"areaUnderROC\"})))"
   ]
  },
  {
   "cell_type": "code",
   "execution_count": 152,
   "metadata": {},
   "outputs": [],
   "source": [
    "accuracy = MulticlassClassificationEvaluator(\n",
    "    labelCol = \"label\", predictionCol = \"prediction\", metricName = \"accuracy\")\n",
    "precision = MulticlassClassificationEvaluator(\n",
    "    labelCol = \"label\", predictionCol = \"prediction\", metricName = \"weightedPrecision\")\n",
    "recall = MulticlassClassificationEvaluator(\n",
    "    labelCol = \"label\", predictionCol = \"prediction\", metricName = \"weightedRecall\")"
   ]
  },
  {
   "cell_type": "code",
   "execution_count": 153,
   "metadata": {},
   "outputs": [
    {
     "name": "stdout",
     "output_type": "stream",
     "text": [
      "Accuracy: 0.8145\n",
      "Weighted precision: 0.8002\n",
      " Weighted recall: 0.8145\n"
     ]
    }
   ],
   "source": [
    "# For LR\n",
    "print(\"Accuracy: {:.4}\".format(accuracy.evaluate(predictions)))\n",
    "print(\"Weighted precision: {:.4}\".format(precision.evaluate(predictions)))\n",
    "print(\" Weighted recall: {:.4}\".format(recall.evaluate(predictions)))"
   ]
  },
  {
   "cell_type": "code",
   "execution_count": null,
   "metadata": {},
   "outputs": [],
   "source": []
  },
  {
   "cell_type": "code",
   "execution_count": 163,
   "metadata": {},
   "outputs": [
    {
     "name": "stdout",
     "output_type": "stream",
     "text": [
      "Time=19.590058300000237\n"
     ]
    }
   ],
   "source": [
    "#Random Forest Classifier\n",
    "rf = RandomForestClassifier(featuresCol = 'features', labelCol = 'label') \n",
    "start = timer()\n",
    "rfModel = rf.fit(trainSet)\n",
    "end = timer()\n",
    "#trainingSummary_rf = rfModel.summary\n",
    "predictions_rf= rfModel.transform(testSet)\n",
    "\n",
    "print(\"Time=\"+str(end-start))\n",
    "\n",
    "#predictions_rf = rfModel.transform(testSet)\n",
    "#predictions = rfModel.transform(testSet)"
   ]
  },
  {
   "cell_type": "code",
   "execution_count": 158,
   "metadata": {},
   "outputs": [
    {
     "name": "stdout",
     "output_type": "stream",
     "text": [
      "Test Area Under ROC: 0.7607448455444648\n"
     ]
    }
   ],
   "source": [
    "# Area under ROC\n",
    "evaluator = BinaryClassificationEvaluator()\n",
    "print(\"Test Area Under ROC: \" + str(evaluator.evaluate(predictions_rf, {evaluator.metricName: \"areaUnderROC\"})))"
   ]
  },
  {
   "cell_type": "code",
   "execution_count": 159,
   "metadata": {},
   "outputs": [
    {
     "name": "stdout",
     "output_type": "stream",
     "text": [
      "Accuracy: 0.8202\n",
      "Weighted precision: 0.8024\n",
      " Weighted recall: 0.8202\n"
     ]
    }
   ],
   "source": [
    "#For RF\n",
    "print(\"Accuracy: {:.4}\".format(accuracy.evaluate(predictions_rf)))\n",
    "print(\"Weighted precision: {:.4}\".format(precision.evaluate(predictions_rf)))\n",
    "print(\" Weighted recall: {:.4}\".format(recall.evaluate(predictions_rf)))"
   ]
  },
  {
   "cell_type": "code",
   "execution_count": 160,
   "metadata": {},
   "outputs": [
    {
     "name": "stdout",
     "output_type": "stream",
     "text": [
      "(23,[0,1,2,3,4,5,6,7,8,9,10,11,12,13,14,15,16,17,18,19,20,21,22],[0.0027970183932421993,0.00037843421916088527,0.0014581523877568985,0.00025847361485827427,0.003819968798019249,0.4465554144724321,0.21338883425411911,0.1521229098171827,0.07338292088371051,0.035163533763677986,0.00847687106695431,0.0049873886852266295,0.006223087207010829,0.003993056625592918,0.0021045719129836795,0.002722483122541242,0.00379067013085401,0.00950204670930615,0.013582904535780288,0.0055678827401171435,0.004475139742814055,0.002984684275445515,0.00226355264121341])\n"
     ]
    }
   ],
   "source": [
    "print (rfModel.featureImportances)"
   ]
  },
  {
   "cell_type": "code",
   "execution_count": null,
   "metadata": {},
   "outputs": [],
   "source": []
  },
  {
   "cell_type": "code",
   "execution_count": 164,
   "metadata": {},
   "outputs": [
    {
     "name": "stdout",
     "output_type": "stream",
     "text": [
      "Time=97.62070959999983\n"
     ]
    }
   ],
   "source": [
    "# Linear Support Vector Classifier\n",
    "lsvc = LinearSVC(labelCol = \"label\", featuresCol = \"features\", maxIter=10, regParam=0.1)\n",
    "start = timer()\n",
    "model_lsvc=lsvc.fit(trainSet)\n",
    "end = timer()\n",
    "predictions_lsvc=model_lsvc.transform(testSet)\n",
    "print(\"Time=\"+str(end-start))"
   ]
  },
  {
   "cell_type": "code",
   "execution_count": 165,
   "metadata": {},
   "outputs": [
    {
     "name": "stdout",
     "output_type": "stream",
     "text": [
      "Test Area Under ROC: 0.684027908227049\n"
     ]
    }
   ],
   "source": [
    "# Area Under ROC\n",
    "evaluator = BinaryClassificationEvaluator()\n",
    "print(\"Test Area Under ROC: \" + str(evaluator.evaluate(predictions_lsvc, {evaluator.metricName: \"areaUnderROC\"})))"
   ]
  },
  {
   "cell_type": "code",
   "execution_count": 167,
   "metadata": {},
   "outputs": [
    {
     "name": "stdout",
     "output_type": "stream",
     "text": [
      "Accuracy: 0.7816\n",
      "Weighted precision: 0.8293\n",
      " Weighted recall: 0.7816\n"
     ]
    }
   ],
   "source": [
    "# For LSVC\n",
    "print(\"Accuracy: {:.4}\".format(accuracy.evaluate(predictions_lsvc)))\n",
    "print(\"Weighted precision: {:.4}\".format(precision.evaluate(predictions_lsvc)))\n",
    "print(\" Weighted recall: {:.4}\".format(recall.evaluate(predictions_lsvc)))"
   ]
  },
  {
   "cell_type": "markdown",
   "metadata": {},
   "source": [
    "### ML after Feature Engineering"
   ]
  },
  {
   "cell_type": "markdown",
   "metadata": {},
   "source": [
    "### One hot Encoding"
   ]
  },
  {
   "cell_type": "code",
   "execution_count": 168,
   "metadata": {},
   "outputs": [
    {
     "data": {
      "text/plain": [
       "[Row(SEX=2, MARRIAGE=1, EDUCATION=2),\n",
       " Row(SEX=2, MARRIAGE=2, EDUCATION=2),\n",
       " Row(SEX=2, MARRIAGE=2, EDUCATION=2),\n",
       " Row(SEX=2, MARRIAGE=1, EDUCATION=2),\n",
       " Row(SEX=1, MARRIAGE=1, EDUCATION=2)]"
      ]
     },
     "execution_count": 168,
     "metadata": {},
     "output_type": "execute_result"
    }
   ],
   "source": [
    "from pyspark.ml.feature import OneHotEncoderEstimator\n",
    "encoder = OneHotEncoderEstimator(inputCols=[\"SEX\",\"EDUCATION\",\"MARRIAGE\"],outputCols=[\"SEX_vec\",\"EDUCATION_vec\",\"MARRIAGE_vec\"])\n",
    "\n",
    "model = encoder.fit(data)\n",
    "mod_hot = model.transform(data)\n",
    "mod_hot.select(\"SEX\",\"MARRIAGE\",\"EDUCATION\").take(5)"
   ]
  },
  {
   "cell_type": "code",
   "execution_count": null,
   "metadata": {},
   "outputs": [],
   "source": [
    "\n"
   ]
  },
  {
   "cell_type": "code",
   "execution_count": 169,
   "metadata": {},
   "outputs": [
    {
     "data": {
      "text/plain": [
       "'categorical_features = data.schema.names[1:4]\\ncatVect = VectorAssembler(inputCols = categorical_features, outputCol = \"catFeatures\")\\ncatIdx = VectorIndexer(inputCol = catVect.getOutputCol(), outputCol = \"idxCatFeatures\")'"
      ]
     },
     "execution_count": 169,
     "metadata": {},
     "output_type": "execute_result"
    }
   ],
   "source": [
    "# Get and convert categorical features (SEX, EDUCATION, MARRIAGE)\n",
    "'''categorical_features = data.schema.names[1:4]\n",
    "catVect = VectorAssembler(inputCols = categorical_features, outputCol = \"catFeatures\")\n",
    "catIdx = VectorIndexer(inputCol = catVect.getOutputCol(), outputCol = \"idxCatFeatures\")'''\n"
   ]
  },
  {
   "cell_type": "code",
   "execution_count": 170,
   "metadata": {},
   "outputs": [
    {
     "data": {
      "text/plain": [
       "'categorical_features1 = data.schema.names[5:11]\\ncatVect1 = VectorAssembler(inputCols = categorical_features1, outputCol = \"catFeatures1\")\\ncatIdx1 = VectorIndexer(inputCol = catVect1.getOutputCol(), outputCol = \"idxCatFeatures1\")'"
      ]
     },
     "execution_count": 170,
     "metadata": {},
     "output_type": "execute_result"
    }
   ],
   "source": [
    "'''categorical_features1 = data.schema.names[5:11]\n",
    "catVect1 = VectorAssembler(inputCols = categorical_features1, outputCol = \"catFeatures1\")\n",
    "catIdx1 = VectorIndexer(inputCol = catVect1.getOutputCol(), outputCol = \"idxCatFeatures1\")'''"
   ]
  },
  {
   "cell_type": "code",
   "execution_count": 171,
   "metadata": {},
   "outputs": [
    {
     "data": {
      "text/plain": [
       "'numVect = VectorAssembler(inputCols = [\\'LIMIT_BAL\\', \\'AGE\\',\\n \\'PAY_0\\', \\'PAY_2\\', \\'PAY_3\\', \\'PAY_4\\', \\'PAY_5\\', \\'PAY_6\\', \\'BILL_AMT1\\', \\'BILL_AMT2\\',\\n \\'BILL_AMT3\\', \\'BILL_AMT4\\', \\'BILL_AMT5\\', \\'BILL_AMT6\\', \\'PAY_AMT1\\', \\'PAY_AMT2\\', \\'PAY_AMT3\\',\\n \\'PAY_AMT4\\', \\'PAY_AMT5\\', \\'PAY_AMT6\\'], outputCol = \"numFeatures\")\\nminMax = MinMaxScaler(inputCol = numVect.getOutputCol(), outputCol = \"normFeatures\")'"
      ]
     },
     "execution_count": 171,
     "metadata": {},
     "output_type": "execute_result"
    }
   ],
   "source": [
    "# Get and normalize numerical features\n",
    "#numerical_features = data.schema.names[0:1]+data.schema.names[4:]\n",
    "'''numVect = VectorAssembler(inputCols = ['LIMIT_BAL', 'AGE',\n",
    " 'PAY_0', 'PAY_2', 'PAY_3', 'PAY_4', 'PAY_5', 'PAY_6', 'BILL_AMT1', 'BILL_AMT2',\n",
    " 'BILL_AMT3', 'BILL_AMT4', 'BILL_AMT5', 'BILL_AMT6', 'PAY_AMT1', 'PAY_AMT2', 'PAY_AMT3',\n",
    " 'PAY_AMT4', 'PAY_AMT5', 'PAY_AMT6'], outputCol = \"numFeatures\")\n",
    "minMax = MinMaxScaler(inputCol = numVect.getOutputCol(), outputCol = \"normFeatures\")'''"
   ]
  },
  {
   "cell_type": "code",
   "execution_count": 172,
   "metadata": {},
   "outputs": [],
   "source": [
    "# Vector Assembler\n",
    "from pyspark.ml.feature import StandardScaler\n",
    "#numerical_features = data.schema.names[0:1]+data.schema.names[4:]\n",
    "numVect = VectorAssembler(inputCols = ['LIMIT_BAL', 'AGE',\n",
    " 'PAY_1', 'PAY_2', 'PAY_3', 'PAY_4', 'PAY_5', 'PAY_6', 'BILL_AMT1', 'BILL_AMT2',\n",
    " 'BILL_AMT3', 'BILL_AMT4', 'BILL_AMT5', 'BILL_AMT6', 'PAY_AMT1', 'PAY_AMT2', 'PAY_AMT3',\n",
    " 'PAY_AMT4', 'PAY_AMT5', 'PAY_AMT6'], outputCol = \"numFeatures\")\n",
    "StdScl= StandardScaler(inputCol = numVect.getOutputCol(), outputCol = \"normFeatures\")"
   ]
  },
  {
   "cell_type": "code",
   "execution_count": 173,
   "metadata": {},
   "outputs": [
    {
     "name": "stdout",
     "output_type": "stream",
     "text": [
      "+---+---------+---+---------+--------+---+-----+-----+-----+-----+-----+-----+---------+---------+---------+---------+---------+---------+--------+--------+--------+--------+--------+--------+-------+---------+-------------+-------------+--------------------+--------------------+\n",
      "| ID|LIMIT_BAL|SEX|EDUCATION|MARRIAGE|AGE|PAY_1|PAY_2|PAY_3|PAY_4|PAY_5|PAY_6|BILL_AMT1|BILL_AMT2|BILL_AMT3|BILL_AMT4|BILL_AMT5|BILL_AMT6|PAY_AMT1|PAY_AMT2|PAY_AMT3|PAY_AMT4|PAY_AMT5|PAY_AMT6|DEFAULT|  SEX_vec|EDUCATION_vec| MARRIAGE_vec|         numFeatures|        normFeatures|\n",
      "+---+---------+---+---------+--------+---+-----+-----+-----+-----+-----+-----+---------+---------+---------+---------+---------+---------+--------+--------+--------+--------+--------+--------+-------+---------+-------------+-------------+--------------------+--------------------+\n",
      "|  1|    20000|  2|        2|       1| 24|    2|    2|   -1|   -1|   -2|   -2|     3913|     3102|      689|        0|        0|        0|       0|     689|       0|       0|       0|       0|      1|(2,[],[])|(4,[2],[1.0])|(3,[1],[1.0])|(20,[0,1,2,3,4,5,...|(20,[0,1,2,3,4,5,...|\n",
      "+---+---------+---+---------+--------+---+-----+-----+-----+-----+-----+-----+---------+---------+---------+---------+---------+---------+--------+--------+--------+--------+--------+--------+-------+---------+-------------+-------------+--------------------+--------------------+\n",
      "only showing top 1 row\n",
      "\n"
     ]
    }
   ],
   "source": [
    "# Data Pipeline\n",
    "\n",
    "from pyspark.ml import Pipeline\n",
    "\n",
    "numPipeline = Pipeline(stages=[numVect,StdScl])\n",
    "catPipeline = Pipeline(stages=[encoder])\n",
    "pipeline = Pipeline(stages=[catPipeline,numPipeline])\n",
    "new_def = pipeline.fit(data).transform(data)\n",
    "new_def.show(1)"
   ]
  },
  {
   "cell_type": "code",
   "execution_count": 174,
   "metadata": {},
   "outputs": [],
   "source": [
    "#new_def.groupby('label').count().toPandas()"
   ]
  },
  {
   "cell_type": "code",
   "execution_count": 175,
   "metadata": {},
   "outputs": [
    {
     "name": "stdout",
     "output_type": "stream",
     "text": [
      "+--------------------+-----+\n",
      "|            features|label|\n",
      "+--------------------+-----+\n",
      "|(29,[4,7,9,10,11,...|    1|\n",
      "|(29,[4,8,9,10,11,...|    1|\n",
      "|(29,[4,8,9,10,17,...|    0|\n",
      "|(29,[4,7,9,10,17,...|    0|\n",
      "|[0.0,1.0,0.0,0.0,...|    0|\n",
      "+--------------------+-----+\n",
      "only showing top 5 rows\n",
      "\n"
     ]
    }
   ],
   "source": [
    "va_data = VectorAssembler(inputCols=[\"SEX_vec\",\"EDUCATION_vec\",\"MARRIAGE_vec\",\"normFeatures\"], outputCol='final_feat')\n",
    "\n",
    "mod_va = va_data.transform(new_def)\n",
    "#temp1.show(5)\n",
    "data_pipe = mod_va.withColumn(\"features\", mod_va.final_feat).select(\"features\",col(\"DEFAULT\").alias(\"label\"))\n",
    "data_pipe.show(5)"
   ]
  },
  {
   "cell_type": "code",
   "execution_count": null,
   "metadata": {},
   "outputs": [],
   "source": []
  },
  {
   "cell_type": "code",
   "execution_count": 176,
   "metadata": {},
   "outputs": [],
   "source": [
    "#new_def.toPandas()"
   ]
  },
  {
   "cell_type": "code",
   "execution_count": 177,
   "metadata": {},
   "outputs": [
    {
     "data": {
      "text/plain": [
       "'featVect = VectorAssembler(inputCols=[\"idxCatFeatures\",\"normFeatures\",\"SEX_vec\",\"EDUCATION_vec\",\"MARRIAGE_vec\"], outputCol = \"features\")\\npipeline = Pipeline(stages = [numVect, minMax, featVect,mod_hot])\\npipeline_object = pipeline.fit(datatrain_up)'"
      ]
     },
     "execution_count": 177,
     "metadata": {},
     "output_type": "execute_result"
    }
   ],
   "source": [
    "# Define pipeline \n",
    "'''featVect = VectorAssembler(inputCols=[\"idxCatFeatures\",\"normFeatures\",\"SEX_vec\",\"EDUCATION_vec\",\"MARRIAGE_vec\"], outputCol = \"features\")\n",
    "pipeline = Pipeline(stages = [numVect, minMax, featVect,mod_hot])\n",
    "pipeline_object = pipeline.fit(datatrain_up)'''"
   ]
  },
  {
   "cell_type": "code",
   "execution_count": 178,
   "metadata": {},
   "outputs": [
    {
     "data": {
      "text/plain": [
       "'# Run training and test data through the pipeline\\ndata_train = pipeline_object.transform(new_def).select(\"features\", col(\"DEFAULT\").alias(\"label\"))\\ndata_test = pipeline_object.transform(data_test).select(\"features\", col(\"DEFAULT\").alias(\"label\"))'"
      ]
     },
     "execution_count": 178,
     "metadata": {},
     "output_type": "execute_result"
    }
   ],
   "source": [
    "'''# Run training and test data through the pipeline\n",
    "data_train = pipeline_object.transform(new_def).select(\"features\", col(\"DEFAULT\").alias(\"label\"))\n",
    "data_test = pipeline_object.transform(data_test).select(\"features\", col(\"DEFAULT\").alias(\"label\"))'''"
   ]
  },
  {
   "cell_type": "code",
   "execution_count": 179,
   "metadata": {},
   "outputs": [],
   "source": [
    "# Data Split\n",
    "train_data, test_data = data_pipe.randomSplit([0.8, 0.2], seed=12345)"
   ]
  },
  {
   "cell_type": "code",
   "execution_count": 180,
   "metadata": {},
   "outputs": [
    {
     "data": {
      "text/html": [
       "<div>\n",
       "<style scoped>\n",
       "    .dataframe tbody tr th:only-of-type {\n",
       "        vertical-align: middle;\n",
       "    }\n",
       "\n",
       "    .dataframe tbody tr th {\n",
       "        vertical-align: top;\n",
       "    }\n",
       "\n",
       "    .dataframe thead th {\n",
       "        text-align: right;\n",
       "    }\n",
       "</style>\n",
       "<table border=\"1\" class=\"dataframe\">\n",
       "  <thead>\n",
       "    <tr style=\"text-align: right;\">\n",
       "      <th></th>\n",
       "      <th>label</th>\n",
       "      <th>count</th>\n",
       "    </tr>\n",
       "  </thead>\n",
       "  <tbody>\n",
       "    <tr>\n",
       "      <th>0</th>\n",
       "      <td>0</td>\n",
       "      <td>18601</td>\n",
       "    </tr>\n",
       "    <tr>\n",
       "      <th>1</th>\n",
       "      <td>1</td>\n",
       "      <td>5327</td>\n",
       "    </tr>\n",
       "  </tbody>\n",
       "</table>\n",
       "</div>"
      ],
      "text/plain": [
       "   label  count\n",
       "0      0  18601\n",
       "1      1   5327"
      ]
     },
     "execution_count": 180,
     "metadata": {},
     "output_type": "execute_result"
    }
   ],
   "source": [
    "train_data.groupby('label').count().toPandas()"
   ]
  },
  {
   "cell_type": "code",
   "execution_count": 181,
   "metadata": {},
   "outputs": [
    {
     "name": "stdout",
     "output_type": "stream",
     "text": [
      "Coefficients: [0.0,0.08925289003911029,0.0,0.1641322735685014,0.08811872022845503,0.09170650068082202,0.0,0.0786563492294813,-0.12034807247790759,-0.11617676289018297,0.030280858346908805,0.661864044221762,0.0838807417481531,0.06979265281142912,0.020548058298997578,0.03876922664775436,0.027822796329217466,-0.14184670106747496,-0.03605823815275668,-0.013006010788815432,0.03318414059227879,0.05508994706468222,0.04076696633719045,-0.1636255077382878,-0.2308628423494698,-0.05986673473680814,-0.06612769485138047,-0.05976597585367703,-0.012612855544574059]\n",
      "Intercept: -1.2670576343626985\n",
      "Time=4.532262700000501\n"
     ]
    }
   ],
   "source": [
    "# Logistic Regression\n",
    "lr1 = LogisticRegression(featuresCol = 'features', labelCol = 'label', maxIter=10)\n",
    "start = timer()\n",
    "lrModel1 = lr1.fit(train_data)\n",
    "end = timer()\n",
    "trainingSummary = lrModel1.summary\n",
    "predictions= lrModel1.transform(test_data)\n",
    "\n",
    "print(\"Coefficients: %s\" % str(lrModel1.coefficients))\n",
    "print(\"Intercept: %s\" % str(lrModel1.intercept))\n",
    "print(\"Time=\"+str(end-start))"
   ]
  },
  {
   "cell_type": "code",
   "execution_count": 182,
   "metadata": {},
   "outputs": [
    {
     "name": "stdout",
     "output_type": "stream",
     "text": [
      "Accuracy: 0.8151\n",
      "Weighted precision: 0.7977\n",
      " Weighted recall: 0.8151\n"
     ]
    }
   ],
   "source": [
    "# For LR\n",
    "print(\"Accuracy: {:.4}\".format(accuracy.evaluate(predictions)))\n",
    "print(\"Weighted precision: {:.4}\".format(precision.evaluate(predictions)))\n",
    "print(\" Weighted recall: {:.4}\".format(recall.evaluate(predictions)))"
   ]
  },
  {
   "cell_type": "code",
   "execution_count": 183,
   "metadata": {},
   "outputs": [
    {
     "name": "stdout",
     "output_type": "stream",
     "text": [
      "Test Area Under ROC: 0.7184002224942823\n"
     ]
    }
   ],
   "source": [
    "# Area under ROC for LR\n",
    "evaluator = BinaryClassificationEvaluator()\n",
    "print(\"Test Area Under ROC: \" + str(evaluator.evaluate(predictions, {evaluator.metricName: \"areaUnderROC\"})))"
   ]
  },
  {
   "cell_type": "code",
   "execution_count": 184,
   "metadata": {},
   "outputs": [
    {
     "data": {
      "image/png": "[encoded data removed]",
      "text/plain": [
       "<Figure size 432x288 with 1 Axes>"
      ]
     },
     "metadata": {
      "needs_background": "light"
     },
     "output_type": "display_data"
    },
    {
     "name": "stdout",
     "output_type": "stream",
     "text": [
      "Training set areaUnder ROC: 0.7245011069859478\n"
     ]
    }
   ],
   "source": [
    "# Area under ROC Curve for LR\n",
    "roc = trainingSummary.roc.toPandas()\n",
    "plt.plot(roc['FPR'],roc['TPR'])\n",
    "plt.ylabel('False Positive Rate')\n",
    "plt.xlabel('True Positive Rate')\n",
    "plt.title('ROC Curve')\n",
    "plt.show()\n",
    "\n",
    "print('Training set areaUnder ROC: ' + str(trainingSummary.areaUnderROC))"
   ]
  },
  {
   "cell_type": "code",
   "execution_count": 185,
   "metadata": {},
   "outputs": [
    {
     "name": "stdout",
     "output_type": "stream",
     "text": [
      "Time=19.793643699999848\n"
     ]
    }
   ],
   "source": [
    "# Random Forest Classifier\n",
    "rf = RandomForestClassifier(featuresCol = 'features', labelCol = 'label') \n",
    "start = timer()\n",
    "rfModel = rf.fit(train_data)\n",
    "end = timer()\n",
    "#trainingSummary_rf = rfModel.summary\n",
    "predictions_rf= rfModel.transform(test_data)\n",
    "print(\"Time=\"+str(end-start))\n",
    "\n",
    "#predictions_rf = rfModel.transform(testSet)\n",
    "#predictions = rfModel.transform(testSet)"
   ]
  },
  {
   "cell_type": "code",
   "execution_count": 186,
   "metadata": {},
   "outputs": [
    {
     "name": "stdout",
     "output_type": "stream",
     "text": [
      "Accuracy: 0.8154\n",
      "Weighted precision: 0.7956\n",
      " Weighted recall: 0.8154\n"
     ]
    }
   ],
   "source": [
    "# For RF\n",
    "print(\"Accuracy: {:.4}\".format(accuracy.evaluate(predictions_rf)))\n",
    "print(\"Weighted precision: {:.4}\".format(precision.evaluate(predictions_rf)))\n",
    "print(\" Weighted recall: {:.4}\".format(recall.evaluate(predictions_rf)))"
   ]
  },
  {
   "cell_type": "code",
   "execution_count": 187,
   "metadata": {},
   "outputs": [
    {
     "name": "stdout",
     "output_type": "stream",
     "text": [
      "Test Area Under ROC: 0.7662515696256174\n"
     ]
    }
   ],
   "source": [
    "# Area under ROC for RF\n",
    "evaluator = BinaryClassificationEvaluator()\n",
    "print(\"Test Area Under ROC: \" + str(evaluator.evaluate(predictions_rf, {evaluator.metricName: \"areaUnderROC\"})))"
   ]
  },
  {
   "cell_type": "code",
   "execution_count": 188,
   "metadata": {},
   "outputs": [
    {
     "name": "stdout",
     "output_type": "stream",
     "text": [
      "Time=87.18944730000021\n"
     ]
    }
   ],
   "source": [
    "# Linear Support Vector Classifier\n",
    "lsvc = LinearSVC(labelCol = \"label\", featuresCol = \"features\", maxIter=10, regParam=0.1)\n",
    "start = timer()\n",
    "model_lsvc=lsvc.fit(train_data)\n",
    "end = timer()\n",
    "predictions_lsvc=model_lsvc.transform(test_data)\n",
    "print(\"Time=\"+str(end-start))"
   ]
  },
  {
   "cell_type": "code",
   "execution_count": 189,
   "metadata": {},
   "outputs": [
    {
     "name": "stdout",
     "output_type": "stream",
     "text": [
      "Accuracy: 0.7877\n",
      "Weighted precision: 0.7825\n",
      " Weighted recall: 0.7877\n"
     ]
    }
   ],
   "source": [
    "# For lsvc\n",
    "print(\"Accuracy: {:.4}\".format(accuracy.evaluate(predictions_lsvc)))\n",
    "print(\"Weighted precision: {:.4}\".format(precision.evaluate(predictions_lsvc)))\n",
    "print(\" Weighted recall: {:.4}\".format(recall.evaluate(predictions_lsvc)))"
   ]
  },
  {
   "cell_type": "code",
   "execution_count": 228,
   "metadata": {},
   "outputs": [
    {
     "name": "stdout",
     "output_type": "stream",
     "text": [
      "Test Area Under ROC: 0.7193759822800219\n"
     ]
    }
   ],
   "source": [
    "# Area under ROC for lsvc\n",
    "evaluator = BinaryClassificationEvaluator()\n",
    "print(\"Test Area Under ROC: \" + str(evaluator.evaluate(predictions_lsvc, {evaluator.metricName: \"areaUnderROC\"})))"
   ]
  },
  {
   "cell_type": "markdown",
   "metadata": {},
   "source": [
    "### ML with Upsampling(Pyspark)"
   ]
  },
  {
   "cell_type": "code",
   "execution_count": null,
   "metadata": {},
   "outputs": [],
   "source": []
  },
  {
   "cell_type": "code",
   "execution_count": 229,
   "metadata": {},
   "outputs": [],
   "source": [
    "from pyspark.sql.functions import col\n",
    "\n",
    "train_up_1 = data.where(col('DEFAULT')==1).sample(True, 3.552, seed = 1000)"
   ]
  },
  {
   "cell_type": "code",
   "execution_count": 230,
   "metadata": {},
   "outputs": [
    {
     "data": {
      "text/html": [
       "<div>\n",
       "<style scoped>\n",
       "    .dataframe tbody tr th:only-of-type {\n",
       "        vertical-align: middle;\n",
       "    }\n",
       "\n",
       "    .dataframe tbody tr th {\n",
       "        vertical-align: top;\n",
       "    }\n",
       "\n",
       "    .dataframe thead th {\n",
       "        text-align: right;\n",
       "    }\n",
       "</style>\n",
       "<table border=\"1\" class=\"dataframe\">\n",
       "  <thead>\n",
       "    <tr style=\"text-align: right;\">\n",
       "      <th></th>\n",
       "      <th>DEFAULT</th>\n",
       "      <th>count</th>\n",
       "    </tr>\n",
       "  </thead>\n",
       "  <tbody>\n",
       "    <tr>\n",
       "      <th>0</th>\n",
       "      <td>1</td>\n",
       "      <td>23813</td>\n",
       "    </tr>\n",
       "  </tbody>\n",
       "</table>\n",
       "</div>"
      ],
      "text/plain": [
       "   DEFAULT  count\n",
       "0        1  23813"
      ]
     },
     "execution_count": 230,
     "metadata": {},
     "output_type": "execute_result"
    }
   ],
   "source": [
    "train_up_1.groupby('DEFAULT').count().toPandas()"
   ]
  },
  {
   "cell_type": "code",
   "execution_count": 231,
   "metadata": {},
   "outputs": [],
   "source": [
    "train_up_0= data.where(col('DEFAULT')==0)\n",
    "datatrain_up = train_up_0.union(train_up_1)"
   ]
  },
  {
   "cell_type": "code",
   "execution_count": 232,
   "metadata": {},
   "outputs": [
    {
     "data": {
      "text/html": [
       "<div>\n",
       "<style scoped>\n",
       "    .dataframe tbody tr th:only-of-type {\n",
       "        vertical-align: middle;\n",
       "    }\n",
       "\n",
       "    .dataframe tbody tr th {\n",
       "        vertical-align: top;\n",
       "    }\n",
       "\n",
       "    .dataframe thead th {\n",
       "        text-align: right;\n",
       "    }\n",
       "</style>\n",
       "<table border=\"1\" class=\"dataframe\">\n",
       "  <thead>\n",
       "    <tr style=\"text-align: right;\">\n",
       "      <th></th>\n",
       "      <th>DEFAULT</th>\n",
       "      <th>count</th>\n",
       "    </tr>\n",
       "  </thead>\n",
       "  <tbody>\n",
       "    <tr>\n",
       "      <th>0</th>\n",
       "      <td>0</td>\n",
       "      <td>23364</td>\n",
       "    </tr>\n",
       "    <tr>\n",
       "      <th>1</th>\n",
       "      <td>1</td>\n",
       "      <td>23813</td>\n",
       "    </tr>\n",
       "  </tbody>\n",
       "</table>\n",
       "</div>"
      ],
      "text/plain": [
       "   DEFAULT  count\n",
       "0        0  23364\n",
       "1        1  23813"
      ]
     },
     "execution_count": 232,
     "metadata": {},
     "output_type": "execute_result"
    }
   ],
   "source": [
    "datatrain_up.groupby('DEFAULT').count().toPandas()"
   ]
  },
  {
   "cell_type": "code",
   "execution_count": 233,
   "metadata": {},
   "outputs": [
    {
     "data": {
      "text/plain": [
       "[Row(SEX=2, MARRIAGE=2),\n",
       " Row(SEX=2, MARRIAGE=1),\n",
       " Row(SEX=1, MARRIAGE=1),\n",
       " Row(SEX=1, MARRIAGE=2),\n",
       " Row(SEX=1, MARRIAGE=2)]"
      ]
     },
     "execution_count": 233,
     "metadata": {},
     "output_type": "execute_result"
    }
   ],
   "source": [
    "from pyspark.ml.feature import OneHotEncoderEstimator\n",
    "encoder = OneHotEncoderEstimator(inputCols=[\"SEX\",\"EDUCATION\",\"MARRIAGE\"],outputCols=[\"SEX_vec\",\"EDUCATION_vec\",\"MARRIAGE_vec\"])\n",
    "\n",
    "model = encoder.fit(datatrain_up)\n",
    "mod_hot = model.transform(datatrain_up)\n",
    "mod_hot.select(\"SEX\",\"MARRIAGE\").take(5)"
   ]
  },
  {
   "cell_type": "code",
   "execution_count": 234,
   "metadata": {},
   "outputs": [],
   "source": [
    "from pyspark.ml.feature import StandardScaler\n",
    "#numerical_features = data.schema.names[0:1]+data.schema.names[4:]\n",
    "numVect = VectorAssembler(inputCols = ['LIMIT_BAL', 'AGE',\n",
    " 'PAY_1', 'PAY_2', 'PAY_3', 'PAY_4', 'PAY_5', 'PAY_6', 'BILL_AMT1', 'BILL_AMT2',\n",
    " 'BILL_AMT3', 'BILL_AMT4', 'BILL_AMT5', 'BILL_AMT6', 'PAY_AMT1', 'PAY_AMT2', 'PAY_AMT3',\n",
    " 'PAY_AMT4', 'PAY_AMT5', 'PAY_AMT6'], outputCol = \"numFeatures\")\n",
    "StdScl= StandardScaler(inputCol = numVect.getOutputCol(), outputCol = \"normFeatures\")"
   ]
  },
  {
   "cell_type": "code",
   "execution_count": 235,
   "metadata": {},
   "outputs": [
    {
     "name": "stdout",
     "output_type": "stream",
     "text": [
      "+---+---------+---+---------+--------+---+-----+-----+-----+-----+-----+-----+---------+---------+---------+---------+---------+---------+--------+--------+--------+--------+--------+--------+-------+---------+-------------+-------------+--------------------+--------------------+\n",
      "| ID|LIMIT_BAL|SEX|EDUCATION|MARRIAGE|AGE|PAY_1|PAY_2|PAY_3|PAY_4|PAY_5|PAY_6|BILL_AMT1|BILL_AMT2|BILL_AMT3|BILL_AMT4|BILL_AMT5|BILL_AMT6|PAY_AMT1|PAY_AMT2|PAY_AMT3|PAY_AMT4|PAY_AMT5|PAY_AMT6|DEFAULT|  SEX_vec|EDUCATION_vec| MARRIAGE_vec|         numFeatures|        normFeatures|\n",
      "+---+---------+---+---------+--------+---+-----+-----+-----+-----+-----+-----+---------+---------+---------+---------+---------+---------+--------+--------+--------+--------+--------+--------+-------+---------+-------------+-------------+--------------------+--------------------+\n",
      "|  3|    90000|  2|        2|       2| 34|    0|    0|    0|    0|    0|    0|    29239|    14027|    13559|    14331|    14948|    15549|    1518|    1500|    1000|    1000|    1000|    5000|      0|(2,[],[])|(4,[2],[1.0])|(3,[2],[1.0])|[90000.0,34.0,0.0...|[0.71347681038179...|\n",
      "+---+---------+---+---------+--------+---+-----+-----+-----+-----+-----+-----+---------+---------+---------+---------+---------+---------+--------+--------+--------+--------+--------+--------+-------+---------+-------------+-------------+--------------------+--------------------+\n",
      "only showing top 1 row\n",
      "\n"
     ]
    }
   ],
   "source": [
    "from pyspark.ml import Pipeline\n",
    "\n",
    "numPipeline = Pipeline(stages=[numVect,StdScl])\n",
    "catPipeline = Pipeline(stages=[encoder])\n",
    "pipeline = Pipeline(stages=[catPipeline,numPipeline])\n",
    "new_def = pipeline.fit(datatrain_up).transform(datatrain_up)\n",
    "new_def.show(1)"
   ]
  },
  {
   "cell_type": "code",
   "execution_count": 236,
   "metadata": {},
   "outputs": [
    {
     "name": "stdout",
     "output_type": "stream",
     "text": [
      "+--------------------+-----+\n",
      "|            features|label|\n",
      "+--------------------+-----+\n",
      "|(29,[4,8,9,10,17,...|    0|\n",
      "|(29,[4,7,9,10,17,...|    0|\n",
      "|[0.0,1.0,0.0,0.0,...|    0|\n",
      "|(29,[1,3,8,9,10,1...|    0|\n",
      "|(29,[1,3,8,9,10,1...|    0|\n",
      "+--------------------+-----+\n",
      "only showing top 5 rows\n",
      "\n"
     ]
    }
   ],
   "source": [
    "va_data = VectorAssembler(inputCols=[\"SEX_vec\",\"EDUCATION_vec\",\"MARRIAGE_vec\",\"normFeatures\"], outputCol='final_feat')\n",
    "\n",
    "mod_va = va_data.transform(new_def)\n",
    "#temp1.show(5)\n",
    "data_pipe = mod_va.withColumn(\"features\", mod_va.final_feat).select(\"features\",col(\"DEFAULT\").alias(\"label\"))\n",
    "data_pipe.show(5)"
   ]
  },
  {
   "cell_type": "code",
   "execution_count": 237,
   "metadata": {},
   "outputs": [],
   "source": [
    "#test_data.groupby('label').count().toPandas()"
   ]
  },
  {
   "cell_type": "code",
   "execution_count": 238,
   "metadata": {},
   "outputs": [],
   "source": [
    "train_data, test_data = data_pipe.randomSplit([0.8, 0.2], seed=12345)"
   ]
  },
  {
   "cell_type": "code",
   "execution_count": 239,
   "metadata": {},
   "outputs": [
    {
     "name": "stdout",
     "output_type": "stream",
     "text": [
      "Coefficients: [0.0,0.08978615545013047,0.0,0.20248984910791706,0.12314071022146393,0.12339593992841323,0.0,0.04904871663383554,-0.14115221798284183,-0.09361194300265613,0.03263827939849309,0.6298196662564886,0.09737906893859212,0.09082762522291353,0.07060892198542143,0.022915776936709223,-0.0047278260627659965,-0.13422792104960937,-0.013875862224810053,-0.02241101442009721,0.0001620104703877837,0.04706758186121603,0.028499892596602763,-0.15553879025403097,-0.12547832648331006,-0.05437467162393016,-0.05835478887587911,-0.024849016970573706,-0.02028216756851355]\n",
      "Intercept: -0.021219215334663984\n"
     ]
    }
   ],
   "source": [
    "lr1 = LogisticRegression(featuresCol = 'features', labelCol = 'label', maxIter=10)\n",
    "lrModel1 = lr1.fit(train_data)\n",
    "trainingSummary = lrModel1.summary\n",
    "predictions= lrModel1.transform(test_data)\n",
    "\n",
    "print(\"Coefficients: %s\" % str(lrModel1.coefficients))\n",
    "print(\"Intercept: %s\" % str(lrModel1.intercept))"
   ]
  },
  {
   "cell_type": "code",
   "execution_count": 240,
   "metadata": {},
   "outputs": [
    {
     "name": "stdout",
     "output_type": "stream",
     "text": [
      "Accuracy: 0.6691\n",
      "Weighted precision: 0.6692\n",
      " Weighted recall: 0.6691\n"
     ]
    }
   ],
   "source": [
    "print(\"Accuracy: {:.4}\".format(accuracy.evaluate(predictions)))\n",
    "print(\"Weighted precision: {:.4}\".format(precision.evaluate(predictions)))\n",
    "print(\" Weighted recall: {:.4}\".format(recall.evaluate(predictions)))"
   ]
  },
  {
   "cell_type": "code",
   "execution_count": 241,
   "metadata": {},
   "outputs": [
    {
     "data": {
      "image/png": "[encoded data removed]",
      "text/plain": [
       "<Figure size 432x288 with 1 Axes>"
      ]
     },
     "metadata": {
      "needs_background": "light"
     },
     "output_type": "display_data"
    },
    {
     "name": "stdout",
     "output_type": "stream",
     "text": [
      "Training set areaUnder ROC: 0.7201038198785551\n"
     ]
    }
   ],
   "source": [
    "roc = trainingSummary.roc.toPandas()\n",
    "plt.plot(roc['FPR'],roc['TPR'])\n",
    "plt.ylabel('False Positive Rate')\n",
    "plt.xlabel('True Positive Rate')\n",
    "plt.title('ROC Curve')\n",
    "plt.show()\n",
    "\n",
    "print('Training set areaUnder ROC: ' + str(trainingSummary.areaUnderROC))"
   ]
  },
  {
   "cell_type": "code",
   "execution_count": 242,
   "metadata": {},
   "outputs": [
    {
     "name": "stdout",
     "output_type": "stream",
     "text": [
      "Test Area Under ROC: 0.7236349626202631\n"
     ]
    }
   ],
   "source": [
    "evaluator = BinaryClassificationEvaluator()\n",
    "print(\"Test Area Under ROC: \" + str(evaluator.evaluate(predictions, {evaluator.metricName: \"areaUnderROC\"})))"
   ]
  },
  {
   "cell_type": "code",
   "execution_count": 243,
   "metadata": {},
   "outputs": [],
   "source": [
    "rf = RandomForestClassifier(featuresCol = 'features', labelCol = 'label') \n",
    "rfModel = rf.fit(train_data)\n",
    "#trainingSummary_rf = rfModel.summary\n",
    "predictions_rf= rfModel.transform(test_data)\n",
    "\n",
    "#predictions_rf = rfModel.transform(testSet)\n",
    "#predictions = rfModel.transform(testSet)"
   ]
  },
  {
   "cell_type": "code",
   "execution_count": 244,
   "metadata": {},
   "outputs": [
    {
     "name": "stdout",
     "output_type": "stream",
     "text": [
      "Accuracy: 0.7171\n",
      "Weighted precision: 0.7279\n",
      " Weighted recall: 0.7171\n"
     ]
    }
   ],
   "source": [
    "print(\"Accuracy: {:.4}\".format(accuracy.evaluate(predictions_rf)))\n",
    "print(\"Weighted precision: {:.4}\".format(precision.evaluate(predictions_rf)))\n",
    "print(\" Weighted recall: {:.4}\".format(recall.evaluate(predictions_rf)))"
   ]
  },
  {
   "cell_type": "code",
   "execution_count": 245,
   "metadata": {},
   "outputs": [
    {
     "name": "stdout",
     "output_type": "stream",
     "text": [
      "Test Area Under ROC: 0.773887789108904\n"
     ]
    }
   ],
   "source": [
    "evaluator = BinaryClassificationEvaluator()\n",
    "print(\"Test Area Under ROC: \" + str(evaluator.evaluate(predictions_rf, {evaluator.metricName: \"areaUnderROC\"})))"
   ]
  },
  {
   "cell_type": "code",
   "execution_count": 246,
   "metadata": {},
   "outputs": [],
   "source": [
    "lsvc = LinearSVC(labelCol = \"label\", featuresCol = \"features\", maxIter=10, regParam=0.1)\n",
    "model_lsvc=lsvc.fit(train_data)\n",
    "predictions_lsvc=model_lsvc.transform(test_data)"
   ]
  },
  {
   "cell_type": "code",
   "execution_count": 247,
   "metadata": {},
   "outputs": [
    {
     "name": "stdout",
     "output_type": "stream",
     "text": [
      "Accuracy: 0.6744\n",
      "Weighted precision: 0.6828\n",
      " Weighted recall: 0.6744\n"
     ]
    }
   ],
   "source": [
    "print(\"Accuracy: {:.4}\".format(accuracy.evaluate(predictions_lsvc)))\n",
    "print(\"Weighted precision: {:.4}\".format(precision.evaluate(predictions_lsvc)))\n",
    "print(\" Weighted recall: {:.4}\".format(recall.evaluate(predictions_lsvc)))"
   ]
  },
  {
   "cell_type": "code",
   "execution_count": 248,
   "metadata": {},
   "outputs": [
    {
     "name": "stdout",
     "output_type": "stream",
     "text": [
      "Test Area Under ROC: 0.719375982280022\n"
     ]
    }
   ],
   "source": [
    "evaluator = BinaryClassificationEvaluator()\n",
    "print(\"Test Area Under ROC: \" + str(evaluator.evaluate(predictions_lsvc, {evaluator.metricName: \"areaUnderROC\"})))"
   ]
  },
  {
   "cell_type": "markdown",
   "metadata": {},
   "source": [
    "### ML with Downsampling(Pyspark)"
   ]
  },
  {
   "cell_type": "code",
   "execution_count": 249,
   "metadata": {},
   "outputs": [],
   "source": [
    "train_0_dwn = data.where(col('DEFAULT')==0).sample(True, 0.279, seed = 1000)"
   ]
  },
  {
   "cell_type": "code",
   "execution_count": 250,
   "metadata": {},
   "outputs": [
    {
     "data": {
      "text/html": [
       "<div>\n",
       "<style scoped>\n",
       "    .dataframe tbody tr th:only-of-type {\n",
       "        vertical-align: middle;\n",
       "    }\n",
       "\n",
       "    .dataframe tbody tr th {\n",
       "        vertical-align: top;\n",
       "    }\n",
       "\n",
       "    .dataframe thead th {\n",
       "        text-align: right;\n",
       "    }\n",
       "</style>\n",
       "<table border=\"1\" class=\"dataframe\">\n",
       "  <thead>\n",
       "    <tr style=\"text-align: right;\">\n",
       "      <th></th>\n",
       "      <th>DEFAULT</th>\n",
       "      <th>count</th>\n",
       "    </tr>\n",
       "  </thead>\n",
       "  <tbody>\n",
       "    <tr>\n",
       "      <th>0</th>\n",
       "      <td>0</td>\n",
       "      <td>6615</td>\n",
       "    </tr>\n",
       "  </tbody>\n",
       "</table>\n",
       "</div>"
      ],
      "text/plain": [
       "   DEFAULT  count\n",
       "0        0   6615"
      ]
     },
     "execution_count": 250,
     "metadata": {},
     "output_type": "execute_result"
    }
   ],
   "source": [
    "train_0_dwn.groupby('DEFAULT').count().toPandas()"
   ]
  },
  {
   "cell_type": "code",
   "execution_count": 251,
   "metadata": {},
   "outputs": [],
   "source": [
    "train_1_dwn= data.where(col('DEFAULT')==1)\n",
    "trainSet_dwn = train_1_dwn.union(train_0_dwn)"
   ]
  },
  {
   "cell_type": "code",
   "execution_count": 252,
   "metadata": {},
   "outputs": [
    {
     "data": {
      "text/html": [
       "<div>\n",
       "<style scoped>\n",
       "    .dataframe tbody tr th:only-of-type {\n",
       "        vertical-align: middle;\n",
       "    }\n",
       "\n",
       "    .dataframe tbody tr th {\n",
       "        vertical-align: top;\n",
       "    }\n",
       "\n",
       "    .dataframe thead th {\n",
       "        text-align: right;\n",
       "    }\n",
       "</style>\n",
       "<table border=\"1\" class=\"dataframe\">\n",
       "  <thead>\n",
       "    <tr style=\"text-align: right;\">\n",
       "      <th></th>\n",
       "      <th>DEFAULT</th>\n",
       "      <th>count</th>\n",
       "    </tr>\n",
       "  </thead>\n",
       "  <tbody>\n",
       "    <tr>\n",
       "      <th>0</th>\n",
       "      <td>0</td>\n",
       "      <td>6615</td>\n",
       "    </tr>\n",
       "    <tr>\n",
       "      <th>1</th>\n",
       "      <td>1</td>\n",
       "      <td>6636</td>\n",
       "    </tr>\n",
       "  </tbody>\n",
       "</table>\n",
       "</div>"
      ],
      "text/plain": [
       "   DEFAULT  count\n",
       "0        0   6615\n",
       "1        1   6636"
      ]
     },
     "execution_count": 252,
     "metadata": {},
     "output_type": "execute_result"
    }
   ],
   "source": [
    "trainSet_dwn.groupby('DEFAULT').count().toPandas()"
   ]
  },
  {
   "cell_type": "code",
   "execution_count": 253,
   "metadata": {},
   "outputs": [
    {
     "data": {
      "text/plain": [
       "[Row(SEX=2, MARRIAGE=1),\n",
       " Row(SEX=2, MARRIAGE=2),\n",
       " Row(SEX=1, MARRIAGE=2),\n",
       " Row(SEX=1, MARRIAGE=2),\n",
       " Row(SEX=2, MARRIAGE=1)]"
      ]
     },
     "execution_count": 253,
     "metadata": {},
     "output_type": "execute_result"
    }
   ],
   "source": [
    "from pyspark.ml.feature import OneHotEncoderEstimator\n",
    "encoder = OneHotEncoderEstimator(inputCols=[\"SEX\",\"EDUCATION\",\"MARRIAGE\"],outputCols=[\"SEX_vec\",\"EDUCATION_vec\",\"MARRIAGE_vec\"])\n",
    "\n",
    "model = encoder.fit(trainSet_dwn)\n",
    "mod_hot = model.transform(trainSet_dwn)\n",
    "mod_hot.select(\"SEX\",\"MARRIAGE\").take(5)"
   ]
  },
  {
   "cell_type": "code",
   "execution_count": 254,
   "metadata": {},
   "outputs": [],
   "source": [
    "numVect = VectorAssembler(inputCols = ['LIMIT_BAL', 'AGE',\n",
    " 'PAY_1', 'PAY_2', 'PAY_3', 'PAY_4', 'PAY_5', 'PAY_6', 'BILL_AMT1', 'BILL_AMT2',\n",
    " 'BILL_AMT3', 'BILL_AMT4', 'BILL_AMT5', 'BILL_AMT6', 'PAY_AMT1', 'PAY_AMT2', 'PAY_AMT3',\n",
    " 'PAY_AMT4', 'PAY_AMT5', 'PAY_AMT6'], outputCol = \"numFeatures\")\n",
    "StdScl= StandardScaler(inputCol = numVect.getOutputCol(), outputCol = \"normFeatures\")"
   ]
  },
  {
   "cell_type": "code",
   "execution_count": 255,
   "metadata": {},
   "outputs": [
    {
     "name": "stdout",
     "output_type": "stream",
     "text": [
      "+---+---------+---+---------+--------+---+-----+-----+-----+-----+-----+-----+---------+---------+---------+---------+---------+---------+--------+--------+--------+--------+--------+--------+-------+---------+-------------+-------------+--------------------+--------------------+\n",
      "| ID|LIMIT_BAL|SEX|EDUCATION|MARRIAGE|AGE|PAY_1|PAY_2|PAY_3|PAY_4|PAY_5|PAY_6|BILL_AMT1|BILL_AMT2|BILL_AMT3|BILL_AMT4|BILL_AMT5|BILL_AMT6|PAY_AMT1|PAY_AMT2|PAY_AMT3|PAY_AMT4|PAY_AMT5|PAY_AMT6|DEFAULT|  SEX_vec|EDUCATION_vec| MARRIAGE_vec|         numFeatures|        normFeatures|\n",
      "+---+---------+---+---------+--------+---+-----+-----+-----+-----+-----+-----+---------+---------+---------+---------+---------+---------+--------+--------+--------+--------+--------+--------+-------+---------+-------------+-------------+--------------------+--------------------+\n",
      "|  1|    20000|  2|        2|       1| 24|    2|    2|   -1|   -1|   -2|   -2|     3913|     3102|      689|        0|        0|        0|       0|     689|       0|       0|       0|       0|      1|(2,[],[])|(4,[2],[1.0])|(3,[1],[1.0])|(20,[0,1,2,3,4,5,...|(20,[0,1,2,3,4,5,...|\n",
      "+---+---------+---+---------+--------+---+-----+-----+-----+-----+-----+-----+---------+---------+---------+---------+---------+---------+--------+--------+--------+--------+--------+--------+-------+---------+-------------+-------------+--------------------+--------------------+\n",
      "only showing top 1 row\n",
      "\n"
     ]
    }
   ],
   "source": [
    "from pyspark.ml import Pipeline\n",
    "\n",
    "numPipeline = Pipeline(stages=[numVect,StdScl])\n",
    "catPipeline = Pipeline(stages=[encoder])\n",
    "pipeline = Pipeline(stages=[catPipeline,numPipeline])\n",
    "new_def = pipeline.fit(trainSet_dwn).transform(trainSet_dwn)\n",
    "new_def.show(1)"
   ]
  },
  {
   "cell_type": "code",
   "execution_count": 256,
   "metadata": {},
   "outputs": [
    {
     "name": "stdout",
     "output_type": "stream",
     "text": [
      "+--------------------+-----+\n",
      "|            features|label|\n",
      "+--------------------+-----+\n",
      "|(29,[4,7,9,10,11,...|    1|\n",
      "|(29,[4,8,9,10,11,...|    1|\n",
      "|[0.0,1.0,0.0,0.0,...|    1|\n",
      "|(29,[1,3,8,9,10,1...|    1|\n",
      "|[0.0,0.0,0.0,0.0,...|    1|\n",
      "+--------------------+-----+\n",
      "only showing top 5 rows\n",
      "\n"
     ]
    }
   ],
   "source": [
    "va_data = VectorAssembler(inputCols=[\"SEX_vec\",\"EDUCATION_vec\",\"MARRIAGE_vec\",\"normFeatures\"], outputCol='final_feat')\n",
    "\n",
    "mod_va = va_data.transform(new_def)\n",
    "#temp1.show(5)\n",
    "data_pipe = mod_va.withColumn(\"features\", mod_va.final_feat).select(\"features\",col(\"DEFAULT\").alias(\"label\"))\n",
    "data_pipe.show(5)"
   ]
  },
  {
   "cell_type": "code",
   "execution_count": 257,
   "metadata": {},
   "outputs": [],
   "source": [
    "train_data, test_data = data_pipe.randomSplit([0.8, 0.2], seed=12345)"
   ]
  },
  {
   "cell_type": "code",
   "execution_count": 258,
   "metadata": {},
   "outputs": [],
   "source": [
    "#test_data.groupby('label').count().toPandas()"
   ]
  },
  {
   "cell_type": "code",
   "execution_count": 259,
   "metadata": {},
   "outputs": [
    {
     "name": "stdout",
     "output_type": "stream",
     "text": [
      "Coefficients: [0.0,0.11268771361423988,0.0,0.21097426387004123,0.06206088142155738,0.1279422798474878,0.0,0.06504058171946535,-0.1711705322315308,-0.09715701383437064,0.034706963007805486,0.6500491171708186,0.08941086634781929,0.13728109866774874,0.02109076972760876,0.06230497697512268,-0.03685669191814962,-0.14570131157230984,-0.04571781870901404,0.0018523268862173832,0.039718587841012655,0.08203379552912297,0.0027082566994669193,-0.12878656830474455,-0.19842114351891346,-0.062397517508606525,-0.08062317456401943,-0.0684914194113378,-0.00344989839784955]\n",
      "Intercept: -0.02090954311004478\n"
     ]
    }
   ],
   "source": [
    "lr1 = LogisticRegression(featuresCol = 'features', labelCol = 'label', maxIter=10)\n",
    "lrModel1 = lr1.fit(train_data)\n",
    "trainingSummary = lrModel1.summary\n",
    "predictions= lrModel1.transform(test_data)\n",
    "\n",
    "print(\"Coefficients: %s\" % str(lrModel1.coefficients))\n",
    "print(\"Intercept: %s\" % str(lrModel1.intercept))"
   ]
  },
  {
   "cell_type": "code",
   "execution_count": 260,
   "metadata": {},
   "outputs": [
    {
     "name": "stdout",
     "output_type": "stream",
     "text": [
      "Accuracy: 0.6498\n",
      "Weighted precision: 0.6502\n",
      " Weighted recall: 0.6498\n"
     ]
    }
   ],
   "source": [
    "print(\"Accuracy: {:.4}\".format(accuracy.evaluate(predictions)))\n",
    "print(\"Weighted precision: {:.4}\".format(precision.evaluate(predictions)))\n",
    "print(\" Weighted recall: {:.4}\".format(recall.evaluate(predictions)))"
   ]
  },
  {
   "cell_type": "code",
   "execution_count": 261,
   "metadata": {},
   "outputs": [
    {
     "name": "stdout",
     "output_type": "stream",
     "text": [
      "Test Area Under ROC: 0.7003612865408082\n"
     ]
    }
   ],
   "source": [
    "evaluator = BinaryClassificationEvaluator()\n",
    "print(\"Test Area Under ROC: \" + str(evaluator.evaluate(predictions, {evaluator.metricName: \"areaUnderROC\"})))"
   ]
  },
  {
   "cell_type": "code",
   "execution_count": 262,
   "metadata": {},
   "outputs": [],
   "source": [
    "rf = RandomForestClassifier(featuresCol = 'features', labelCol = 'label') \n",
    "rfModel = rf.fit(train_data)\n",
    "#trainingSummary_rf = rfModel.summary\n",
    "predictions_rf= rfModel.transform(test_data)\n"
   ]
  },
  {
   "cell_type": "code",
   "execution_count": 263,
   "metadata": {},
   "outputs": [
    {
     "name": "stdout",
     "output_type": "stream",
     "text": [
      "Accuracy: 0.6993\n",
      "Weighted precision: 0.7142\n",
      " Weighted recall: 0.6993\n"
     ]
    }
   ],
   "source": [
    "print(\"Accuracy: {:.4}\".format(accuracy.evaluate(predictions_rf)))\n",
    "print(\"Weighted precision: {:.4}\".format(precision.evaluate(predictions_rf)))\n",
    "print(\" Weighted recall: {:.4}\".format(recall.evaluate(predictions_rf)))"
   ]
  },
  {
   "cell_type": "code",
   "execution_count": 264,
   "metadata": {},
   "outputs": [
    {
     "name": "stdout",
     "output_type": "stream",
     "text": [
      "Test Area Under ROC: 0.7613868668678824\n"
     ]
    }
   ],
   "source": [
    "evaluator = BinaryClassificationEvaluator()\n",
    "print(\"Test Area Under ROC: \" + str(evaluator.evaluate(predictions_rf, {evaluator.metricName: \"areaUnderROC\"})))"
   ]
  },
  {
   "cell_type": "code",
   "execution_count": 265,
   "metadata": {},
   "outputs": [],
   "source": [
    "lsvc = LinearSVC(labelCol = \"label\", featuresCol = \"features\", maxIter=10, regParam=0.1)\n",
    "model_lsvc=lsvc.fit(train_data)\n",
    "predictions_lsvc=model_lsvc.transform(test_data)"
   ]
  },
  {
   "cell_type": "code",
   "execution_count": 266,
   "metadata": {},
   "outputs": [
    {
     "name": "stdout",
     "output_type": "stream",
     "text": [
      "Accuracy: 0.6629\n",
      "Weighted precision: 0.6729\n",
      " Weighted recall: 0.6629\n"
     ]
    }
   ],
   "source": [
    "print(\"Accuracy: {:.4}\".format(accuracy.evaluate(predictions_lsvc)))\n",
    "print(\"Weighted precision: {:.4}\".format(precision.evaluate(predictions_lsvc)))\n",
    "print(\" Weighted recall: {:.4}\".format(recall.evaluate(predictions_lsvc)))"
   ]
  },
  {
   "cell_type": "code",
   "execution_count": 267,
   "metadata": {},
   "outputs": [
    {
     "name": "stdout",
     "output_type": "stream",
     "text": [
      "Test Area Under ROC: 0.6958308322272103\n"
     ]
    }
   ],
   "source": [
    "evaluator = BinaryClassificationEvaluator()\n",
    "print(\"Test Area Under ROC: \" + str(evaluator.evaluate(predictions_lsvc, {evaluator.metricName: \"areaUnderROC\"})))"
   ]
  }
 ],
 "metadata": {
  "kernelspec": {
   "display_name": "Python 3",
   "language": "python",
   "name": "python3"
  },
  "language_info": {
   "codemirror_mode": {
    "name": "ipython",
    "version": 3
   },
   "file_extension": ".py",
   "mimetype": "text/x-python",
   "name": "python",
   "nbconvert_exporter": "python",
   "pygments_lexer": "ipython3",
   "version": "3.7.3"
  }
 },
 "nbformat": 4,
 "nbformat_minor": 2
}
